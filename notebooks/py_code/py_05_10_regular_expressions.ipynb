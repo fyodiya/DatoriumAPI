{
  "nbformat": 4,
  "nbformat_minor": 0,
  "metadata": {
    "colab": {
      "provenance": []
    },
    "kernelspec": {
      "name": "python3",
      "display_name": "Python 3"
    },
    "language_info": {
      "name": "python"
    }
  },
  "cells": [
    {
      "cell_type": "markdown",
      "source": [
        "**REGULAR EXPRESSIONS** (regex)"
      ],
      "metadata": {
        "id": "lntuMLTbf8b1"
      }
    },
    {
      "cell_type": "code",
      "execution_count": 1,
      "metadata": {
        "id": "lZEOPb40f4k9"
      },
      "outputs": [],
      "source": [
        "import re # RegEx module"
      ]
    },
    {
      "cell_type": "code",
      "source": [
        "text = \"\"\"\n",
        "Alice: 555-123-4567\n",
        "Bob: 333-987-6543\n",
        "Charlie: 777-555-88\n",
        "\"\"\""
      ],
      "metadata": {
        "id": "MdPrmoAbk_DI"
      },
      "execution_count": 2,
      "outputs": []
    },
    {
      "cell_type": "code",
      "source": [
        "text"
      ],
      "metadata": {
        "colab": {
          "base_uri": "https://localhost:8080/",
          "height": 35
        },
        "id": "djMN4zb-lJ-C",
        "outputId": "0918d125-faa2-4a3c-b69c-9fa64c3d58f8"
      },
      "execution_count": 3,
      "outputs": [
        {
          "output_type": "execute_result",
          "data": {
            "text/plain": [
              "'\\nAlice: 555-123-4567\\nBob: 333-987-6543\\nCharlie: 777-555-88\\n'"
            ],
            "application/vnd.google.colaboratory.intrinsic+json": {
              "type": "string"
            }
          },
          "metadata": {},
          "execution_count": 3
        }
      ]
    },
    {
      "cell_type": "code",
      "source": [
        "# re.search - 1st occurence of a pattern\n",
        "\n",
        "pattern = r\"\\d{3}-\\d{3}-\\d{4}\"\n",
        "match = re.search(pattern, text)\n",
        "print(match)"
      ],
      "metadata": {
        "colab": {
          "base_uri": "https://localhost:8080/"
        },
        "id": "dDMCymLmlMzV",
        "outputId": "7d702fb5-7176-4fd0-9f90-ebf0c1462560"
      },
      "execution_count": 4,
      "outputs": [
        {
          "output_type": "stream",
          "name": "stdout",
          "text": [
            "<re.Match object; span=(8, 20), match='555-123-4567'>\n"
          ]
        }
      ]
    },
    {
      "cell_type": "code",
      "source": [
        "# re.findall - finds all occurences of a pattern\n",
        "\n",
        "pattern = r\"\\d{3}-\\d{3}-\\d{4}\"\n",
        "matches = re.findall(pattern, text)\n",
        "print(matches)"
      ],
      "metadata": {
        "colab": {
          "base_uri": "https://localhost:8080/"
        },
        "id": "PXqz50MklX2v",
        "outputId": "1c0141a1-3d8d-4445-b914-dc5c495b38a7"
      },
      "execution_count": 5,
      "outputs": [
        {
          "output_type": "stream",
          "name": "stdout",
          "text": [
            "['555-123-4567', '333-987-6543']\n"
          ]
        }
      ]
    },
    {
      "cell_type": "code",
      "source": [
        "# re.IGNORCASE - pattern matching is case insensitive\n",
        "\n",
        "pattern = r\"\\d{3}-\\d{3}-\\d{4}\"\n",
        "matches = re.findall(pattern, text, re.IGNORECASE)\n",
        "print(matches)"
      ],
      "metadata": {
        "colab": {
          "base_uri": "https://localhost:8080/"
        },
        "id": "oT77K30QldVR",
        "outputId": "b5437803-a1dc-4192-80e6-4b3a4bc01300"
      },
      "execution_count": 6,
      "outputs": [
        {
          "output_type": "stream",
          "name": "stdout",
          "text": [
            "['555-123-4567', '333-987-6543']\n"
          ]
        }
      ]
    },
    {
      "cell_type": "markdown",
      "source": [
        "**Dates pattern matching**"
      ],
      "metadata": {
        "id": "YOyJ6SfNpwvI"
      }
    },
    {
      "cell_type": "code",
      "source": [
        "dates = \"\"\"\n",
        "My dates are: 05-10-2024 and 2022-10-05\n",
        "\"\"\""
      ],
      "metadata": {
        "id": "lsaLVmKzmkDH"
      },
      "execution_count": 7,
      "outputs": []
    },
    {
      "cell_type": "code",
      "source": [
        "pattern2 = r\"\\d{2}-\\d{2}-\\d{4}\"\n",
        "matches2 = re.findall(pattern2, dates)\n",
        "print(matches2)"
      ],
      "metadata": {
        "colab": {
          "base_uri": "https://localhost:8080/"
        },
        "id": "OGVVuj9Bp_q7",
        "outputId": "241c0045-f571-46df-c1d4-1f6c05f5d602"
      },
      "execution_count": 10,
      "outputs": [
        {
          "output_type": "stream",
          "name": "stdout",
          "text": [
            "['05-10-2024']\n"
          ]
        }
      ]
    },
    {
      "cell_type": "markdown",
      "source": [
        "**Email pattern matching**"
      ],
      "metadata": {
        "id": "3wdFoIZmrnf2"
      }
    },
    {
      "cell_type": "code",
      "source": [
        "emails = \"\"\"\n",
        "Emails: lisalisa@gmail.com, alina.z@inbox.lv, info@company.net\n",
        "\"\"\""
      ],
      "metadata": {
        "id": "Xz6gSOGUrsWK"
      },
      "execution_count": 17,
      "outputs": []
    },
    {
      "cell_type": "code",
      "source": [
        "pattern3 = r\"\\b[A-Za-z0-9._%+-]+@[A-Za-z0-9.-]+\\.[A-Z|a-z]{2,}\\b\"\n",
        "matches3 = re.findall(pattern3, emails, re.IGNORECASE)\n",
        "print(matches3)\n",
        "\n",
        "pattern4 = r'\\w+@\\w+\\.\\w+'\n",
        "matches4 = re.findall(pattern4, emails, re.IGNORECASE)\n",
        "print(matches4)"
      ],
      "metadata": {
        "colab": {
          "base_uri": "https://localhost:8080/"
        },
        "id": "rIBCQrDLr2Db",
        "outputId": "ec7d0359-d282-40c9-826d-86b372f4e904"
      },
      "execution_count": 18,
      "outputs": [
        {
          "output_type": "stream",
          "name": "stdout",
          "text": [
            "['lisalisa@gmail.com', 'alina.z@inbox.lv', 'info@company.net']\n",
            "['lisalisa@gmail.com', 'z@inbox.lv', 'info@company.net']\n"
          ]
        }
      ]
    }
  ]
}