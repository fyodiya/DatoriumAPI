{
  "nbformat": 4,
  "nbformat_minor": 0,
  "metadata": {
    "colab": {
      "provenance": []
    },
    "kernelspec": {
      "name": "python3",
      "display_name": "Python 3"
    },
    "language_info": {
      "name": "python"
    }
  },
  "cells": [
    {
      "cell_type": "markdown",
      "source": [
        "**NESTED LOOPS**"
      ],
      "metadata": {
        "id": "kSAemdMxTohl"
      }
    },
    {
      "cell_type": "code",
      "execution_count": null,
      "metadata": {
        "colab": {
          "base_uri": "https://localhost:8080/"
        },
        "id": "bnmmrimgPc_O",
        "outputId": "793c9e5e-286c-4d00-ac80-acb990666670"
      },
      "outputs": [
        {
          "output_type": "stream",
          "name": "stdout",
          "text": [
            "Write a number: 34\n",
            "Write another number: 56\n",
            "34 is smaller than 56\n"
          ]
        }
      ],
      "source": [
        "# compare two numbers\n",
        "\n",
        "num1 = int(input(\"Write a number: \"))\n",
        "num2 = int(input(\"Write another number: \"))\n",
        "\n",
        "# nested loops\n",
        "\n",
        "if num1 >= num2:\n",
        "  if num1 == num2:\n",
        "    print(f\"{num1} and {num2} are equal!\")\n",
        "  else: print(f\"{num1} is greater than {num2}.\")\n",
        "else: print(f\"{num1} is smaller than {num2}.\")"
      ]
    },
    {
      "cell_type": "code",
      "source": [
        "# TRY, EXCEPT, ELSE\n",
        "\n",
        "stock = input(\"Stock: \")\n",
        "\n",
        "try:\n",
        "  product_stock = int(stock)\n",
        "except:\n",
        "  print(\"Wrong input!\")\n",
        "\n",
        "else:\n",
        "  if product_stock > 10:\n",
        "    print(\"Stock level is sufficient.\")\n",
        "  else: print(\"Low stock!\")"
      ],
      "metadata": {
        "colab": {
          "base_uri": "https://localhost:8080/"
        },
        "id": "omkN5pQQVhVX",
        "outputId": "4e09ece8-4627-408a-8342-19fdb7477fd2"
      },
      "execution_count": null,
      "outputs": [
        {
          "output_type": "stream",
          "name": "stdout",
          "text": [
            "Stock: 6t\n",
            "Wrong input!\n"
          ]
        }
      ]
    },
    {
      "cell_type": "code",
      "source": [
        "repeat = True\n",
        "\n",
        "while repeat:\n",
        "    stock = input('Input stock: ')\n",
        "\n",
        "    try:\n",
        "        product_stock = int(stock)\n",
        "    except:\n",
        "        print('Wrong input!')\n",
        "    else:\n",
        "        if product_stock > 10:\n",
        "            print('Stock level is sufficient!')\n",
        "        else:\n",
        "            print('Low stock!')\n",
        "        repeat = False"
      ],
      "metadata": {
        "id": "xCH7x4YEYaq3"
      },
      "execution_count": null,
      "outputs": []
    },
    {
      "cell_type": "markdown",
      "source": [
        "**TASK**\n",
        "\n",
        "Prompt the user to enter their name, the\n",
        "speed limit (in km/h), and their actual speed (in km/h).\n",
        "Calculate the difference between the actual speed and the speed limit, and then calculate the fine based on the difference (3 euros per km/h over the limit).\n",
        "Handle potential non-integer inputs for speed limit and actual speed using a try block.\n",
        "If non-integer inputs are detected, set the speed limit to -1 to indicate wrong speed values.\n",
        "If the speed limit is -1, print \"Wrong speed values entered. Please enter km/h.\"\n",
        "If the actual speed does not exceed the speed limit, print \"Speed limit is not exceeded. No fine applied.\"\n",
        "If the actual speed exceeds the speed limit, check if the fine is less than or equal to 190 euros. If so, print \"{name}, your fine for speeding is {fine} euros.\" - Otherwise, print \"{name}, your fine for speeding is 190 euros.\""
      ],
      "metadata": {
        "id": "ivbvSIqBYyaY"
      }
    },
    {
      "cell_type": "code",
      "source": [
        "name = input(\"Please enter your name: \")\n",
        "actual_speed = int(input(\"Please enter your speed, in km/h: \"))\n",
        "speed_limit = int(input(\"Please enter the speed limit: \"))\n",
        "\n",
        "try:\n",
        "  speed_limit = speed_limit = int(speed_limit)\n",
        "  actual_speed = int(actual_speed)\n",
        "except:\n",
        "  print(\"Wrong speed values entered, please enter speeds in km/h.\")\n",
        "else:\n",
        "  difference = actual_speed - speed_limit\n",
        "  fine = difference * 3\n",
        "  if speed_limit >= actual_speed: # difference < 0\n",
        "    print(\"Speed linit is not exceeded. No fine is applied.\")\n",
        "  else:\n",
        "    if fine <= 190:\n",
        "      print(f\"{name}, your fine for speeding is {fine} euros.\")\n",
        "    else:\n",
        "      print(f\"{name}, your fine for speeding is 190 euros.\")"
      ],
      "metadata": {
        "colab": {
          "base_uri": "https://localhost:8080/"
        },
        "id": "QYG4krarZrjo",
        "outputId": "ec46b51c-da94-44c0-9344-95db2c3f797d"
      },
      "execution_count": null,
      "outputs": [
        {
          "output_type": "stream",
          "name": "stdout",
          "text": [
            "Please enter your name: elina\n",
            "Please enter your speed, in km/h: 65\n",
            "Please enter the speed limit: 50\n",
            "your fine is 45\n"
          ]
        }
      ]
    },
    {
      "cell_type": "code",
      "source": [
        "from os import execle\n",
        "\n",
        "name = input(\"Please enter your name: \")\n",
        "actual_speed = int(input(\"Please enter your speed, in km/h: \"))\n",
        "speed_limit = int(input(\"Please enter the speed limit: \"))\n",
        "\n",
        "try:\n",
        "  speed_limit = speed_limit = int(speed_limit)\n",
        "  actual_speed = int(actual_speed)\n",
        "except:\n",
        "  print(\"Wrong speed values entered, please enter speeds in km/h.\")\n",
        "else:\n",
        "  difference = actual_speed - speed_limit\n",
        "  fine = difference * 3\n",
        "  if speed_limit <= 0 or actual_speed < 0:\n",
        "    print(\"Speed limit must be POSITIVE!\")\n",
        "  elif speed_limit >= actual_speed: # difference < 0\n",
        "    print(\"Speed linit is not exceeded. No fine is applied.\")\n",
        "  else:\n",
        "    if fine <= 190: #fine = min(190, difference * 3)\n",
        "      print(f\"{name}, your fine for speeding is {fine} euros.\")\n",
        "    else:\n",
        "      print(f\"{name}, your fine for speeding is 190 euros.\")"
      ],
      "metadata": {
        "id": "Gjj2WMYKdpaV"
      },
      "execution_count": null,
      "outputs": []
    },
    {
      "cell_type": "markdown",
      "source": [
        "**LISTS**"
      ],
      "metadata": {
        "id": "dKBXB1gNiO6b"
      }
    },
    {
      "cell_type": "code",
      "source": [
        "flowers = \"pink primrose,hard-leaved pocket orchid,canterbury bells,sweet pea,english marigold,tiger lily,moon orchid,bird of paradise,monkshood,globe thistle\"\n",
        "#string\n",
        "print(type(flowers))"
      ],
      "metadata": {
        "colab": {
          "base_uri": "https://localhost:8080/"
        },
        "id": "WNpSt_EFiOay",
        "outputId": "de3cc224-523e-4b77-a5a6-45a0181d317b"
      },
      "execution_count": null,
      "outputs": [
        {
          "output_type": "stream",
          "name": "stdout",
          "text": [
            "<class 'str'>\n"
          ]
        }
      ]
    },
    {
      "cell_type": "code",
      "source": [
        "flowers = [\"pink primrose\",\"hard-leaved pocket orchid\",\"canterbury bells\",\"sweet pea\",\"english marigold\",\"tiger lily\",\"moon orchid\",\"bird of paradise\",\"monkshood\",\"globe thistle\"]\n",
        "#list\n",
        "print(type(flowers))"
      ],
      "metadata": {
        "colab": {
          "base_uri": "https://localhost:8080/"
        },
        "id": "EJz4ZZwOjNwr",
        "outputId": "2d1e9b18-04b2-485b-ac9d-16105d6549ed"
      },
      "execution_count": null,
      "outputs": [
        {
          "output_type": "stream",
          "name": "stdout",
          "text": [
            "<class 'list'>\n"
          ]
        }
      ]
    },
    {
      "cell_type": "code",
      "source": [
        "#how many items are in the list?\n",
        "flowers = [\"pink primrose\",\"hard-leaved pocket orchid\",\"canterbury bells\",\"sweet pea\",\"english marigold\",\"tiger lily\",\"moon orchid\",\"bird of paradise\",\"monkshood\",\"globe thistle\"]\n",
        "print(len(flowers))"
      ],
      "metadata": {
        "colab": {
          "base_uri": "https://localhost:8080/"
        },
        "id": "WQYkrnpMkJRM",
        "outputId": "74f372c9-f3f1-4a76-b865-4f89947eca13"
      },
      "execution_count": null,
      "outputs": [
        {
          "output_type": "stream",
          "name": "stdout",
          "text": [
            "10\n"
          ]
        }
      ]
    },
    {
      "cell_type": "code",
      "source": [
        "#indexing\n",
        "flowers = [\"pink primrose\",\"hard-leaved pocket orchid\",\"canterbury bells\",\"sweet pea\",\"english marigold\",\"tiger lily\",\"moon orchid\",\"bird of paradise\",\"monkshood\",\"globe thistle\"]\n",
        "print(f\"First entry: \" + flowers[0])\n",
        "print(f\"Second entry: \" + flowers[1])\n",
        "print(f\"Last entry of our list is: \" + flowers[-1])\n",
        "\n",
        "print(flowers[1:5])\n",
        "print(flowers[:5])\n",
        "\n",
        "print(\"Every other element of my list: \", flowers[::2]) #every second item of the list\n",
        "\n",
        "for item in flowers[::2]:\n",
        "  print(item)\n"
      ],
      "metadata": {
        "colab": {
          "base_uri": "https://localhost:8080/"
        },
        "id": "tUz460R-lFHU",
        "outputId": "d08c5286-33dc-4c08-d1fb-4f0e667a4001"
      },
      "execution_count": null,
      "outputs": [
        {
          "output_type": "stream",
          "name": "stdout",
          "text": [
            "First entry: pink primrose\n",
            "Second entry: hard-leaved pocket orchid\n",
            "Last entry of our list is: globe thistle\n",
            "['hard-leaved pocket orchid', 'canterbury bells', 'sweet pea', 'english marigold']\n",
            "['pink primrose', 'hard-leaved pocket orchid', 'canterbury bells', 'sweet pea', 'english marigold']\n",
            "Every other element of my list:  ['pink primrose', 'canterbury bells', 'english marigold', 'moon orchid', 'monkshood']\n",
            "pink primrose\n",
            "canterbury bells\n",
            "english marigold\n",
            "moon orchid\n",
            "monkshood\n"
          ]
        }
      ]
    },
    {
      "cell_type": "code",
      "source": [
        "my_list = [\"one\", \"two\", \"three\", 4, 5]\n",
        "print(my_list[1])\n",
        "\n",
        "print(my_list[-2])\n",
        "print(my_list[3])\n",
        "#looking from the start and from the end of the list\n",
        "#same results\n",
        "\n",
        "my_list = my_list + [\"new item\"] #concatenation\n",
        "print(my_list)\n",
        "\n",
        "my_list[1] = 2 #change of second element of the list\n",
        "print(my_list)\n",
        "\n",
        "my_list.append('append!') #method for adding new elements to the list\n",
        "print(my_list)\n",
        "\n",
        "my_list.pop(3)\n"
      ],
      "metadata": {
        "colab": {
          "base_uri": "https://localhost:8080/"
        },
        "id": "mZ2z_j5joMAc",
        "outputId": "978177c7-c9d3-4e09-e50a-c9742cfba665"
      },
      "execution_count": null,
      "outputs": [
        {
          "output_type": "stream",
          "name": "stdout",
          "text": [
            "two\n",
            "4\n",
            "4\n",
            "['one', 'two', 'three', 4, 5, 'new item']\n",
            "['one', 2, 'three', 4, 5, 'new item']\n",
            "['one', 2, 'three', 4, 5, 'new item', 'append!']\n"
          ]
        },
        {
          "output_type": "execute_result",
          "data": {
            "text/plain": [
              "4"
            ]
          },
          "metadata": {},
          "execution_count": 28
        }
      ]
    },
    {
      "cell_type": "markdown",
      "source": [
        "1.Define a list of numbers [10, 20, 30, 40, 50].\n",
        "\n",
        "2.Print the length of the list.\n",
        "\n",
        "3.Print the first element of the list.\n",
        "\n",
        "4.Print the last element of the list.\n",
        "\n",
        "5.Append a new number (e.g., 60) to the list.\n",
        "\n",
        "6.Print the updated list.\n",
        "\n",
        "7.Remove the second element from the list.\n",
        "\n",
        "8.Print the list after removal.\n",
        "\n",
        "9.Check if a specific number (e.g., 30) exists in the list and print the result."
      ],
      "metadata": {
        "id": "i73DstzVryC7"
      }
    },
    {
      "cell_type": "code",
      "source": [
        "my_list = [10, 20, 30, 40, 50]\n",
        "print(len(my_list))\n",
        "print(my_list[0])\n",
        "print(my_list[-1])\n",
        "my_list.append(30)\n",
        "print(my_list)\n",
        "my_list.remove(10)  #remove 10 from the list without reassigning\n",
        "print(my_list)\n",
        "contains_in_list = 30 in my_list  #check if 30 is in the list\n",
        "print(contains_in_list)"
      ],
      "metadata": {
        "colab": {
          "base_uri": "https://localhost:8080/"
        },
        "id": "RHH8mLmQrxp6",
        "outputId": "3a3b4d65-052a-4d02-c117-29fedf2c2eb3"
      },
      "execution_count": null,
      "outputs": [
        {
          "output_type": "stream",
          "name": "stdout",
          "text": [
            "5\n",
            "10\n",
            "50\n",
            "[10, 20, 30, 40, 50, 30]\n",
            "[20, 30, 40, 50, 30]\n",
            "True\n"
          ]
        }
      ]
    }
  ]
}