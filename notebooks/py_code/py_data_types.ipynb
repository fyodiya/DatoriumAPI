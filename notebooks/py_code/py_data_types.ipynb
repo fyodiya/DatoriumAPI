{
  "nbformat": 4,
  "nbformat_minor": 0,
  "metadata": {
    "colab": {
      "provenance": []
    },
    "kernelspec": {
      "name": "python3",
      "display_name": "Python 3"
    },
    "language_info": {
      "name": "python"
    }
  },
  "cells": [
    {
      "cell_type": "markdown",
      "source": [
        "**TUPLES**\n",
        "\n",
        "immutable storages of data"
      ],
      "metadata": {
        "id": "Z7lHQ2Smgxv_"
      }
    },
    {
      "cell_type": "code",
      "execution_count": null,
      "metadata": {
        "colab": {
          "base_uri": "https://localhost:8080/"
        },
        "id": "cifxUSSae3Z8",
        "outputId": "00a69af2-6f39-4b32-f25a-45d1a5a0b887"
      },
      "outputs": [
        {
          "output_type": "stream",
          "name": "stdout",
          "text": [
            "{1, 2, 3}\n"
          ]
        }
      ],
      "source": [
        "my_list = [] #how we define a list\n",
        "\n",
        "my_tuple = {1, 2, 3} #how we define a tuple\n",
        "print(my_tuple)"
      ]
    },
    {
      "cell_type": "code",
      "source": [
        "my_list = [1, 2, 3, 4]\n",
        "print(my_list)\n",
        "\n",
        "#transfroming the list to tuple\n",
        "new_tuple = tuple(my_list)\n",
        "print(new_tuple)\n",
        "\n",
        "new_tuple[0:3] #we can index into tuples\n",
        "\n",
        "len(new_tuple)\n",
        "min(new_tuple)\n",
        "max(new_tuple)\n",
        "sum(new_tuple)"
      ],
      "metadata": {
        "colab": {
          "base_uri": "https://localhost:8080/"
        },
        "id": "3_Ar6P3zhvrT",
        "outputId": "25cb8f19-ca2a-4567-f812-56b79a06dc52"
      },
      "execution_count": null,
      "outputs": [
        {
          "output_type": "stream",
          "name": "stdout",
          "text": [
            "[1, 2, 3, 4]\n",
            "(1, 2, 3, 4)\n"
          ]
        },
        {
          "output_type": "execute_result",
          "data": {
            "text/plain": [
              "10"
            ]
          },
          "metadata": {},
          "execution_count": 4
        }
      ]
    },
    {
      "cell_type": "code",
      "source": [
        "#immutability\n",
        "new_tuple = [1, 2, 3, 4, 5] #contents of tuple won't be changed\n",
        "\n",
        "#different types of data\n",
        "my_tuple = (1, \"Hello\", 3.14, True, [1, 2, 3])\n",
        "print(my_tuple)  #output: (1, 'Hello', 3.14, True, [1, 2, 3])\n"
      ],
      "metadata": {
        "colab": {
          "base_uri": "https://localhost:8080/"
        },
        "id": "ccCXMeJ4jCYG",
        "outputId": "306e294b-481a-4efe-cfa2-681d4d4a103e"
      },
      "execution_count": null,
      "outputs": [
        {
          "output_type": "stream",
          "name": "stdout",
          "text": [
            "(1, 'Hello', 3.14, True, [1, 2, 3])\n"
          ]
        }
      ]
    },
    {
      "cell_type": "markdown",
      "source": [
        "**DICTIONARY**\n",
        "A dictionary is a built-in data type used to store key-value pairs. Dictionaries are mutable, unordered collections of items. Each item in a dictionary is stored as a pair of a key and its corresponding value. Keys must be unique and immutable (such as strings, numbers, or tuples), while values can be of any data type and can be duplicated."
      ],
      "metadata": {
        "id": "bri_focQleiu"
      }
    },
    {
      "cell_type": "code",
      "source": [
        "my_dict = {\n",
        "    \"name\": \"Alice\",\n",
        "    \"age\": 30,\n",
        "    \"is_student\": False,\n",
        "    \"courses\": [\"Math\", \"Science\"],\n",
        "    \"address\": {\"city\": \"New York\", \"zip\": \"10001\"}\n",
        "}\n",
        "\n",
        "print(my_dict)\n"
      ],
      "metadata": {
        "colab": {
          "base_uri": "https://localhost:8080/"
        },
        "id": "_Xl441Iclujx",
        "outputId": "52ebf675-2672-4ca8-f856-5952e9588daf"
      },
      "execution_count": null,
      "outputs": [
        {
          "output_type": "stream",
          "name": "stdout",
          "text": [
            "{'name': 'Alice', 'age': 30, 'is_student': False, 'courses': ['Math', 'Science'], 'address': {'city': 'New York', 'zip': '10001'}}\n"
          ]
        }
      ]
    },
    {
      "cell_type": "code",
      "source": [
        "my_dictionary = {} #curly braces method\n",
        "\n",
        "another_dictionary = dict() #dict method\n",
        "\n",
        "my_dictionary == another_dictionary #true"
      ],
      "metadata": {
        "colab": {
          "base_uri": "https://localhost:8080/"
        },
        "id": "NcF6MbPUlzkH",
        "outputId": "d0c1c4c1-d260-481a-f541-7be3475b02bc"
      },
      "execution_count": null,
      "outputs": [
        {
          "output_type": "execute_result",
          "data": {
            "text/plain": [
              "True"
            ]
          },
          "metadata": {},
          "execution_count": 7
        }
      ]
    },
    {
      "cell_type": "code",
      "source": [
        "dictionary = {}\n",
        "dictionary[\"key1\"] = \"value1\" #adding an element\n",
        "dictionary[\"key2\"] = \"value2\" #adding another element\n",
        "print(dictionary) #{'key1': 'value1', 'key2': 'value2'}"
      ],
      "metadata": {
        "colab": {
          "base_uri": "https://localhost:8080/"
        },
        "id": "Pt7TiWo8mRRT",
        "outputId": "eab25dd8-6a6d-4e72-85f5-055ab10c5f06"
      },
      "execution_count": null,
      "outputs": [
        {
          "output_type": "stream",
          "name": "stdout",
          "text": [
            "{'key1': 'value1', 'key2': 'value2'}\n"
          ]
        }
      ]
    },
    {
      "cell_type": "code",
      "source": [
        "#storing a list in a dictionary\n",
        "dictionary[\"datorium_list\"] = [\"Python\", \"Java\", \"C#\"]\n",
        "print(dictionary)"
      ],
      "metadata": {
        "colab": {
          "base_uri": "https://localhost:8080/"
        },
        "id": "w5UpfnTnl5AL",
        "outputId": "3531603b-694e-43e1-c085-1c402b76e8df"
      },
      "execution_count": null,
      "outputs": [
        {
          "output_type": "stream",
          "name": "stdout",
          "text": [
            "{'key1': 'value1', 'key2': 'value2', 'datorium_list': ['Python', 'Java', 'C#']}\n"
          ]
        }
      ]
    },
    {
      "cell_type": "code",
      "source": [
        "#we can't have two different values with the same key\n",
        "#the first one gets overwritten by the second value\n",
        "dictionary[\"datorium_list\"] = [\"Python\", \"Java\", \"C#\"]\n",
        "dictionary[\"datorium_list\"] = [1, 2, 3]\n",
        "print(dictionary) #[1, 2, 3]"
      ],
      "metadata": {
        "colab": {
          "base_uri": "https://localhost:8080/"
        },
        "id": "JJFBi4AYqCqp",
        "outputId": "54db35e0-f382-4fa4-e5bd-66772a1e6795"
      },
      "execution_count": null,
      "outputs": [
        {
          "output_type": "stream",
          "name": "stdout",
          "text": [
            "{'key1': 'value1', 'key2': 'value2', 'datorium_list': [1, 2, 3]}\n"
          ]
        }
      ]
    },
    {
      "cell_type": "markdown",
      "source": [
        "**Python dictionary methods**"
      ],
      "metadata": {
        "id": "qg1bYZwdqo8Z"
      }
    },
    {
      "cell_type": "code",
      "source": [
        "my_friends = {\"Alise\": 30,\n",
        "              \"John\": 35,\n",
        "              \"Linda\": 28}\n",
        "my_friends[\"Linda\"] #28\n",
        "\n",
        "#update\n",
        "incoming_friends = {\"Arta\": 34}\n",
        "\n",
        "my_friends.update(incoming_friends)\n",
        "print(my_friends) #{'Alise': 30, 'John': 35, 'Linda': 28, 'Arta': 34}"
      ],
      "metadata": {
        "colab": {
          "base_uri": "https://localhost:8080/"
        },
        "id": "mCdEM0k7qsiJ",
        "outputId": "a9883197-536f-4583-9b28-4313b3822331"
      },
      "execution_count": null,
      "outputs": [
        {
          "output_type": "stream",
          "name": "stdout",
          "text": [
            "{'Alise': 30, 'John': 35, 'Linda': 28, 'Arta': 34}\n"
          ]
        }
      ]
    },
    {
      "cell_type": "code",
      "source": [
        "#removing an element from the dictionary\n",
        "#pop()\n",
        "my_friends = {\"Alise\": 30,\n",
        "              \"John\": 35,\n",
        "              \"Linda\": 28}\n",
        "my_friends.pop(\"Alise\")\n",
        "print(my_friends)"
      ],
      "metadata": {
        "colab": {
          "base_uri": "https://localhost:8080/"
        },
        "id": "QvwHOx5ZsV_g",
        "outputId": "3b13e42a-aed5-4fa1-c3e6-ede6313ca978"
      },
      "execution_count": null,
      "outputs": [
        {
          "output_type": "stream",
          "name": "stdout",
          "text": [
            "{'John': 35, 'Linda': 28}\n"
          ]
        }
      ]
    },
    {
      "cell_type": "code",
      "source": [
        "#accessing the element\n",
        "my_friends = {\"Alise\": 30,\n",
        "              \"John\": 35,\n",
        "              \"Linda\": 28}\n",
        "#my_friends.pop(\"Alise\")\n",
        "my_friends.get(\"Alise\", \"This person does not exist in the dictionary\")\n",
        "\n",
        "my_friends.get('Alise') # no callback value - get nothing\n",
        "my_friends.get('Alise', 'This person does not exist in the dictionary!') # with callback will get the callback/default val"
      ],
      "metadata": {
        "colab": {
          "base_uri": "https://localhost:8080/"
        },
        "id": "Tz5fDnTTs9NA",
        "outputId": "71959d62-d00b-4a27-a69b-dcd070498ef2"
      },
      "execution_count": null,
      "outputs": [
        {
          "output_type": "execute_result",
          "data": {
            "text/plain": [
              "30"
            ]
          },
          "metadata": {},
          "execution_count": 20
        }
      ]
    },
    {
      "cell_type": "code",
      "source": [
        "#items, keys, values\n",
        "my_friends = {\"Alise\": 30,\n",
        "              \"John\": 35,\n",
        "              \"Linda\": 28}\n",
        "\n",
        "#items() return all objects from the dicitonary\n",
        "my_friends.items()\n",
        "\n",
        "#keys() returns only keys\n",
        "my_friends.keys()\n",
        "\n",
        "#values() returns only keys\n",
        "my_friends.values()"
      ],
      "metadata": {
        "id": "Rkqaa0Pttr8G"
      },
      "execution_count": null,
      "outputs": []
    },
    {
      "cell_type": "code",
      "source": [
        "#contact book\n",
        "\n",
        "contact_book = {} #an empty dict\n",
        "\n",
        "name = input(\"Please enter the name of the person: \")\n",
        "number = int(input(\"Please enter the phone number of the person: \"))\n",
        "\n",
        "contact_book[name] = number #adding elements to my dict\n",
        "print(f\"Contact {name} added successfully!\")\n",
        "\n",
        "#new_dict = {name: number}\n",
        "#new_dict[name] = number\n",
        "\n",
        "while True:\n",
        "  name = input(\"Enter your name: \")\n",
        "  if name == \"\":\n",
        "    print(\"We've stopped for today. See you next time!\")\n",
        "    break\n",
        "  number = input(\"Enter your phone number: \")\n",
        "  contact_book[name] = number  # adding element to the dictionary\n",
        "  print(f'Contact {name} added successfully!')"
      ],
      "metadata": {
        "colab": {
          "base_uri": "https://localhost:8080/"
        },
        "id": "bRSaOHl2xZXG",
        "outputId": "a552884e-3cbc-40a1-a084-c3a962f6b8f6"
      },
      "execution_count": null,
      "outputs": [
        {
          "output_type": "stream",
          "name": "stdout",
          "text": [
            "Please enter the name of the person: e\n",
            "Please enter the phone number of the person: 345\n",
            "Contact e added successfully!\n"
          ]
        }
      ]
    },
    {
      "cell_type": "code",
      "source": [
        "contact_book = {}  # An empty dictionary\n",
        "\n",
        "while True:\n",
        "    name = input(\"Please enter the name of the person (or type 'STOP' to finish): \")\n",
        "    if name.upper() == \"STOP\":\n",
        "        print(\"You have chosen to stop.\")\n",
        "        break\n",
        "\n",
        "    number = input(\"Please enter the phone number of the person: \")\n",
        "\n",
        "    # Ensure the number is valid\n",
        "    if number.isdigit():\n",
        "        number = int(number)\n",
        "        contact_book[name] = number  # Adding elements to the dictionary\n",
        "        print(f\"Contact {name} added successfully!\")\n",
        "    else:\n",
        "        print(\"Invalid phone number. Please enter a valid number.\")\n",
        "\n",
        "print(\"Final contact book:\")\n",
        "for name, number in contact_book.items():\n",
        "    print(f\"{name}: {number}\")\n"
      ],
      "metadata": {
        "id": "hGhQe18m0mr0"
      },
      "execution_count": null,
      "outputs": []
    },
    {
      "cell_type": "code",
      "source": [
        "contact_book = {}\n",
        "\n",
        "while True:\n",
        "  name = input('Your name: ')\n",
        "\n",
        "  if name.lower() == 'stop':\n",
        "    break\n",
        "\n",
        "  number = input('Your number: ')\n",
        "  contact_book[name] = number\n",
        "  print(f'Contact {name} added!')\n",
        "\n",
        "print(contact_book)"
      ],
      "metadata": {
        "colab": {
          "base_uri": "https://localhost:8080/"
        },
        "id": "Ue1o9L361Kta",
        "outputId": "1244ab6a-27c8-4e8f-9d00-bcf3f2ed25cb"
      },
      "execution_count": null,
      "outputs": [
        {
          "output_type": "stream",
          "name": "stdout",
          "text": [
            "Your name: elina\n",
            "Your number: 345\n",
            "Contact elina added!\n",
            "Your name: rt\n",
            "Your number: 456\n",
            "Contact rt added!\n",
            "Your name: stop\n",
            "{'elina': '345', 'rt': '456'}\n"
          ]
        }
      ]
    },
    {
      "cell_type": "code",
      "source": [
        "#store inventory management\n",
        "\n",
        "store_inventory = {}\n",
        "while True:\n",
        "  item = input('Enter the item: ')\n",
        "\n",
        "  exit = input(\"If you want to exit, please enter 'STOP'\")\n",
        "  if exit.lower() == 'stop':\n",
        "    print(\"You asked to stop inventarisation.\")\n",
        "    break\n",
        "\n",
        "  quantity = input('Enter the quantity: ')\n",
        "  store_inventory[item] = quantity\n",
        "  print(f'Item {item} and its quantity {quantity} have been added to the inventory!')\n",
        "\n",
        "print(store_inventory)\n"
      ],
      "metadata": {
        "id": "w5QUXYDg12Y_"
      },
      "execution_count": null,
      "outputs": []
    },
    {
      "cell_type": "markdown",
      "source": [
        "**FUNCTIONS**"
      ],
      "metadata": {
        "id": "lMinKl_U5Pse"
      }
    },
    {
      "cell_type": "code",
      "source": [
        "#splitting the previous code into functions\n",
        "\n",
        "store_inventory = {}\n",
        "\n",
        "def add_item(store_inventory):\n",
        "  item = input('Enter the item: ')\n",
        "  quantity = input('Enter the quantity: ')\n",
        "  store_inventory[item] = quantity\n",
        "  print(f'Item {item} and its quantity {quantity} have been added to the inventory!')\n",
        "\n",
        "\n",
        "while True:\n",
        "  exit = input(\"If you want to exit, please enter 'STOP'\")\n",
        "  if exit.lower() == 'stop':\n",
        "    print(\"You asked to stop inventarisation.\")\n",
        "    break\n",
        "  add_item(store_inventory) #usage of our function\n",
        "  print(store_inventory)\n"
      ],
      "metadata": {
        "id": "MIMpygy35R3H"
      },
      "execution_count": null,
      "outputs": []
    },
    {
      "cell_type": "markdown",
      "source": [
        "**TASK**"
      ],
      "metadata": {
        "id": "udCb9E8K8C-t"
      }
    },
    {
      "cell_type": "code",
      "source": [
        "#Creating a contact book\n",
        "contact_book = {\n",
        "    \"Alice\": 12345,\n",
        "    \"Bob\": 67890,\n",
        "    \"Charlie\": 54321\n",
        "}\n",
        "\n",
        "#Iterating through the dictionary - contact book\n",
        "print(\"Contacts:\")\n",
        "for name, number in contact_book.items():\n",
        "    print(f\"{name}: {number}\")"
      ],
      "metadata": {
        "id": "VtFCYvDi8CFN"
      },
      "execution_count": null,
      "outputs": []
    }
  ]
}