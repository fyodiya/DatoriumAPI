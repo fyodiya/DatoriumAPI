{
  "nbformat": 4,
  "nbformat_minor": 0,
  "metadata": {
    "colab": {
      "provenance": []
    },
    "kernelspec": {
      "name": "python3",
      "display_name": "Python 3"
    },
    "language_info": {
      "name": "python"
    }
  },
  "cells": [
    {
      "cell_type": "markdown",
      "source": [
        "**CSV** file format for data storage:\n",
        "\n",
        "id, name, accounts\n",
        "\n",
        "123456, Anne, [123, 453, 926]\n",
        "\n",
        "456788, John, [037, 561]"
      ],
      "metadata": {
        "id": "4pYfhHiWrBEZ"
      }
    },
    {
      "cell_type": "markdown",
      "source": [
        "**JSON** -\n",
        "java script object notation\n",
        "\n",
        "\n",
        "```\n",
        "{\n",
        "  \"name\": \"Anna\",\n",
        "  \"surname\": \"Jackobsson\",\n",
        "  \"age\": 39\n",
        "}\n",
        "```\n",
        "\n",
        "\n",
        "\n",
        "\n",
        "```\n",
        "{\"employees\":[\n",
        "  { \"firstName\":\"John\", \"lastName\":\"Doe\" },\n",
        "  { \"firstName\":\"Anna\", \"lastName\":\"Smith\" },\n",
        "  { \"firstName\":\"Peter\", \"lastName\":\"Jones\" }\n",
        "]}\n",
        "```\n",
        "\n"
      ],
      "metadata": {
        "id": "NC2DaBsrxHDI"
      }
    },
    {
      "cell_type": "code",
      "execution_count": null,
      "metadata": {
        "id": "9hXV-SWCnClO"
      },
      "outputs": [],
      "source": [
        "import datetime\n",
        "\n",
        "class Client:\n",
        "  number_of_clients = 0\n",
        "\n",
        "  def __init__(self, id, name):\n",
        "    self.id = id\n",
        "    self.name = name\n",
        "    self.accounts = []\n",
        "    Client.number_of_clients += 1\n",
        "\n",
        "  def add_account(self, account):\n",
        "    self.accounts.append(account)\n",
        "\n",
        "class Account:\n",
        "  def __init__(self, number, currency, balance = 0.0):\n",
        "    self.number = number\n",
        "    self.currency = currency\n",
        "    self.balance = balance\n",
        "    self.transactions = []\n",
        "\n",
        "  def make_deposit(self, amount, note):\n",
        "    self.transactions.append(Transaction(self.currency, amount, note))\n",
        "    self.balance += amount\n",
        "\n",
        "  def make_withdrawal(self, amount, note):\n",
        "    self.transactions.append(Transaction(self.currency, -amount, note))\n",
        "    self.balance -= amount\n",
        "\n",
        "class Transaction:\n",
        "  def __init__(self, currency, amount, note):\n",
        "    self.currency = currency\n",
        "    self.amount = amount\n",
        "    self.note = note\n",
        "    self.time_stamp = datetime.datetime.now()\n",
        "\n",
        "# now, let us work using those classes\n",
        "# adding clients to a list\n",
        "clients = []\n",
        "clients.append(Client('123456', 'Anna'))\n",
        "clients.append(Client('987654', 'Oskar'))\n",
        "clients.append(Client('456123', 'Jenifer'))\n",
        "\n",
        "# adding accounts to clients\n",
        "clients[0].add_account(Account('EE654987564321', 'EUR', 1000.0))\n",
        "clients[0].add_account(Account('JP582147859635', 'JPY', 25000.30))\n",
        "clients[0].add_account(Account('US654987643214', 'USD'))\n",
        "clients[1].add_account(Account('PL849512635445', 'PLN', 47800.00))\n",
        "clients[2].add_account(Account('SE741254956587', 'SEK', 200.18))\n",
        "\n",
        "\n",
        "# let's make some transactions\n",
        "clients[0].accounts[0].make_deposit(1200, 'Salary')\n",
        "clients[0].accounts[0].make_withdrawal(50, 'Groceries')\n",
        "clients[0].accounts[0].make_withdrawal(140, 'Clothes')\n",
        "clients[0].accounts[0].make_withdrawal(20, 'Dinner')\n",
        "\n",
        "# printing some data\n",
        "print(f'We have {Client.number_of_clients} clients in our bank:')\n",
        "\n",
        "for client in clients:\n",
        "  print(f'Client {client.name} has the following accounts:')\n",
        "  for account in client.accounts:\n",
        "    print(f'    {account.number} ({account.currency}) {account.balance}')\n",
        "    for transaction in account.transactions:\n",
        "      print(f'        {transaction.time_stamp} {transaction.currency} {transaction.amount}')\n",
        "\n",
        "#We have 3 clients in our bank:\n",
        "#Client Anna has the following accounts:\n",
        "#    EE654987564321 (EUR) 1990.0\n",
        "#       2024-06-01 09:01:19.258792 EUR 1200\n",
        "#       2024-06-01 09:01:19.258831 EUR -50\n",
        "#       2024-06-01 09:01:19.258862 EUR -140\n",
        "#       2024-06-01 09:01:19.258892 EUR -20\n",
        "#   JP582147859635 (JPY) 25000.3\n",
        "#   US654987643214 (USD) 0.0\n",
        "#Client Oskar has the following accounts:\n",
        "#   PL849512635445 (PLN) 47800.0\n",
        "#Client Jenifer has the following accounts:\n",
        "#   SE741254956587 (SEK) 200.18\n",
        "\n"
      ]
    },
    {
      "cell_type": "markdown",
      "source": [
        "```\n",
        "{\n",
        "    \"clients\": [\n",
        "        {\n",
        "            \"id\": \"123456\",\n",
        "            \"name\": \"Anna\",\n",
        "            \"accounts\": [\n",
        "              {\n",
        "                \"number\": \"EE573784623652\",\n",
        "                \"currency\": \"EUR\",\n",
        "                \"balance\": 1000.00\n",
        "              },\n",
        "              {\n",
        "                \"number\": \"JP573765555652\",\n",
        "                \"currency\": \"JPY\",\n",
        "                \"balance\": 25000.00\n",
        "              },\n",
        "              {\n",
        "                \"number\": \"US655567778888\",\n",
        "                \"currency\": \"USD\",\n",
        "                \"balance\": 0\n",
        "              }\n",
        "            ]\n",
        "          },\n",
        "          {\n",
        "            \"id\": \"987654\",\n",
        "            \"name\": \"Oskar\",\n",
        "            \"accounts\": [\n",
        "              {\n",
        "                \"number\": \"PL849512635445\",\n",
        "                \"currency\": \"PLN\",\n",
        "                \"balance\": 47800.00\n",
        "              }\n",
        "            ]\n",
        "          },\n",
        "        {}\n",
        "    ]\n",
        "}\n",
        "```"
      ],
      "metadata": {
        "id": "988y7QPkzdy2"
      }
    },
    {
      "cell_type": "code",
      "source": [
        "# Python program to convert JSON to Dict\n",
        "\n",
        "\n",
        "import json\n",
        "\n",
        "# JSON string\n",
        "employee ='{\"name\": \"Nitin\", \"department\":\"Finance\",\\\n",
        "\"company\":\"GFG\"}'\n",
        "\n",
        "# Convert string to Python dict\n",
        "employee_dict = json.loads(employee)\n",
        "print(\"Data after conversion\")\n",
        "print(employee_dict)\n",
        "print(employee_dict['department'])\n",
        "\n",
        "print(\"\\nType of data\")\n",
        "print(type(employee_dict))\n"
      ],
      "metadata": {
        "colab": {
          "base_uri": "https://localhost:8080/"
        },
        "id": "mgK9B73Q7tkD",
        "outputId": "961317a4-1016-4003-be79-f3f49b77b017"
      },
      "execution_count": null,
      "outputs": [
        {
          "output_type": "stream",
          "name": "stdout",
          "text": [
            "Data after conversion\n",
            "{'name': 'Nitin', 'department': 'Finance', 'company': 'GFG'}\n",
            "Finance\n",
            "\n",
            "Type of data\n",
            "<class 'dict'>\n"
          ]
        }
      ]
    },
    {
      "cell_type": "code",
      "source": [
        "import json\n",
        "\n",
        "# Define student_details dictionary\n",
        "student_details ={\n",
        "    \"name\" : \"sathiyajith\",\n",
        "    \"rollno\" : 56,\n",
        "    \"cgpa\" : 8.6,\n",
        "    \"phonenumber\" : \"9976770500\"\n",
        "}\n",
        "\n",
        "# Convert and write JSON object to file\n",
        "with open(\"sample.json\", \"w\") as outfile:\n",
        "    json.dump(student_details, outfile)\n",
        "\n"
      ],
      "metadata": {
        "id": "QmtsFA1F8Y28"
      },
      "execution_count": null,
      "outputs": []
    },
    {
      "cell_type": "code",
      "source": [
        "import datetime\n",
        "import json\n",
        "\n",
        "class Client:\n",
        "    number_of_clients = 0\n",
        "\n",
        "    def __init__(self, id, name):\n",
        "        self.id = id\n",
        "        self.name = name\n",
        "        self.accounts = []\n",
        "        Client.number_of_clients += 1\n",
        "\n",
        "    def add_account(self, account):\n",
        "        self.accounts.append(account)\n",
        "\n",
        "    def to_dict(self):\n",
        "        return {\n",
        "            'id': self.id,\n",
        "            'name': self.name,\n",
        "            'accounts': [account.to_dict() for account in self.accounts]\n",
        "        }\n",
        "\n",
        "class Account:\n",
        "    def __init__(self, number, currency, balance=0.0):\n",
        "        self.number = number\n",
        "        self.currency = currency\n",
        "        self.balance = balance\n",
        "        self.transactions = []\n",
        "\n",
        "    def make_deposit(self, amount, note):\n",
        "        self.transactions.append(Transaction(self.currency, amount, note))\n",
        "        self.balance += amount\n",
        "\n",
        "    def make_withdrawal(self, amount, note):\n",
        "        self.transactions.append(Transaction(self.currency, -amount, note))\n",
        "        self.balance -= amount\n",
        "\n",
        "    def to_dict(self):\n",
        "        return {\n",
        "            'number': self.number,\n",
        "            'currency': self.currency,\n",
        "            'balance': self.balance,\n",
        "            'transactions': [transaction.to_dict() for transaction in self.transactions]\n",
        "        }\n",
        "\n",
        "class Transaction:\n",
        "    def __init__(self, currency, amount, note):\n",
        "        self.currency = currency\n",
        "        self.amount = amount\n",
        "        self.note = note\n",
        "        self.time_stamp = datetime.datetime.now()\n",
        "\n",
        "    def to_dict(self):\n",
        "        return {\n",
        "            'currency': self.currency,\n",
        "            'amount': self.amount,\n",
        "            'note': self.note,\n",
        "            'time_stamp': self.time_stamp.isoformat()\n",
        "        }\n",
        "\n",
        "# Now, let us work using those classes\n",
        "# Adding clients to a list\n",
        "clients = []\n",
        "clients.append(Client('123456', 'Anna'))\n",
        "clients.append(Client('987654', 'Oskar'))\n",
        "clients.append(Client('456123', 'Jenifer'))\n",
        "\n",
        "# Adding accounts to clients\n",
        "clients[0].add_account(Account('EE654987564321', 'EUR', 1000.0))\n",
        "clients[0].add_account(Account('JP582147859635', 'JPY', 25000.30))\n",
        "clients[0].add_account(Account('US654987643214', 'USD'))\n",
        "clients[1].add_account(Account('PL849512635445', 'PLN', 47800.00))\n",
        "clients[2].add_account(Account('SE741254956587', 'SEK', 200.18))\n",
        "\n",
        "# Let's make some transactions\n",
        "clients[0].accounts[0].make_deposit(1200, 'Salary')\n",
        "clients[0].accounts[0].make_withdrawal(50, 'Groceries')\n",
        "clients[0].accounts[0].make_withdrawal(140, 'Clothes')\n",
        "clients[0].accounts[0].make_withdrawal(20, 'Dinner')\n",
        "\n",
        "\n",
        "# Convert clients to a list of dictionaries\n",
        "clients_dict = [client.to_dict() for client in clients]\n",
        "\n",
        "# Save the data to JSON\n",
        "with open('clients.json', 'w') as f:\n",
        "    json.dump(clients_dict, f, indent=4)\n",
        "\n",
        "# Print some data\n",
        "print(f'We have {Client.number_of_clients} clients in our bank:')\n",
        "for client in clients:\n",
        "    print(f'Client {client.name} has the following accounts:')\n",
        "    for account in client.accounts:\n",
        "        print(f'    {account.number} ({account.currency}) {account.balance}')\n",
        "        for transaction in account.transactions:\n",
        "            print(f'        {transaction.time_stamp} {transaction.currency} {transaction.amount}')\n"
      ],
      "metadata": {
        "colab": {
          "base_uri": "https://localhost:8080/"
        },
        "id": "cZbwNzaq-WFt",
        "outputId": "ded9b79a-61e4-4853-cb29-99d720ac725f"
      },
      "execution_count": null,
      "outputs": [
        {
          "output_type": "stream",
          "name": "stdout",
          "text": [
            "We have 3 clients in our bank:\n",
            "Client Anna has the following accounts:\n",
            "    EE654987564321 (EUR) 1990.0\n",
            "        2024-06-08 08:33:07.009486 EUR 1200\n",
            "        2024-06-08 08:33:07.009524 EUR -50\n",
            "        2024-06-08 08:33:07.009556 EUR -140\n",
            "        2024-06-08 08:33:07.009587 EUR -20\n",
            "    JP582147859635 (JPY) 25000.3\n",
            "    US654987643214 (USD) 0.0\n",
            "Client Oskar has the following accounts:\n",
            "    PL849512635445 (PLN) 47800.0\n",
            "Client Jenifer has the following accounts:\n",
            "    SE741254956587 (SEK) 200.18\n"
          ]
        }
      ]
    },
    {
      "cell_type": "code",
      "source": [
        "#reading JSON into dictionary\n",
        "import json\n",
        "\n",
        "with open(\"clients.json\") as json_file:\n",
        "  data = json.load(json_file)\n",
        "\n",
        "for client in data:\n",
        "  print(f'{client[\"name\"]} ({client[\"id\"]})')"
      ],
      "metadata": {
        "colab": {
          "base_uri": "https://localhost:8080/"
        },
        "id": "fErAYDfjBn9U",
        "outputId": "e1307475-99fd-4d94-a535-5a21257ff865"
      },
      "execution_count": null,
      "outputs": [
        {
          "output_type": "stream",
          "name": "stdout",
          "text": [
            "Anna (123456)\n",
            "Oskar (987654)\n",
            "Jenifer (456123)\n"
          ]
        }
      ]
    },
    {
      "cell_type": "markdown",
      "source": [
        "TASK:\n",
        "\n",
        "Calculate required metrics on a data given in JSON format."
      ],
      "metadata": {
        "id": "AMf_03gRDmu_"
      }
    },
    {
      "cell_type": "code",
      "source": [
        "import json\n",
        "\n",
        "#convert json to dictionary\n",
        "with open(\"students.json\") as json_file:\n",
        "  data = json.load(json_file)\n",
        "\n",
        "students = data['Students']\n",
        "\n",
        "#Calculate, looping through every student data:\n",
        "\n",
        "#a) average age of all students\n",
        "total_age = 0\n",
        "number_of_students = len(students)\n",
        "\n",
        "for student in students:\n",
        "    total_age = total_age + int(student['Age'])\n",
        "average_age = total_age / number_of_students\n",
        "\n",
        "print(f\"The average age of all students is: {average_age} years.\")\n",
        "\n",
        "#b) average Grade of all students\n",
        "total_grade = 0\n",
        "\n",
        "for student in students:\n",
        "    total_grade = total_grade + int(student['Grade'])\n",
        "average_grade = total_grade / number_of_students\n",
        "\n",
        "print(f\"The average grade of all students is: {average_grade} grade.\")\n",
        "\n",
        "#c) (optional) calculate average Grade by Major\n",
        "for student in students:\n",
        "\n",
        "    total_grade = total_grade + int(student['Grade'])"
      ],
      "metadata": {
        "colab": {
          "base_uri": "https://localhost:8080/"
        },
        "id": "qMjlHat5ECOu",
        "outputId": "a054d6a8-8bed-40b2-f20f-2f629aefc36b"
      },
      "execution_count": null,
      "outputs": [
        {
          "output_type": "stream",
          "name": "stdout",
          "text": [
            "The average age of all students is: 25.2 years.\n",
            "The average grade of all students is: 80.36666666666666 grade.\n"
          ]
        }
      ]
    },
    {
      "cell_type": "code",
      "source": [],
      "metadata": {
        "id": "YQEShoAPXQC8"
      },
      "execution_count": null,
      "outputs": []
    }
  ]
}