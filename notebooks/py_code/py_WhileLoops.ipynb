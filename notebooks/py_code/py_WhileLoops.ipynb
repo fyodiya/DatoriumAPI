{
  "nbformat": 4,
  "nbformat_minor": 0,
  "metadata": {
    "colab": {
      "provenance": []
    },
    "kernelspec": {
      "name": "python3",
      "display_name": "Python 3"
    },
    "language_info": {
      "name": "python"
    }
  },
  "cells": [
    {
      "cell_type": "markdown",
      "source": [
        "**WHILE LOOP**"
      ],
      "metadata": {
        "id": "9iHvL9bsdSxV"
      }
    },
    {
      "cell_type": "code",
      "execution_count": null,
      "metadata": {
        "colab": {
          "base_uri": "https://localhost:8080/"
        },
        "id": "9rc3zV-lcC8T",
        "outputId": "094ce356-64c9-4d12-b452-9c827aba526a"
      },
      "outputs": [
        {
          "output_type": "stream",
          "name": "stdout",
          "text": [
            "Alice\n",
            "Bob\n",
            "Charlie\n",
            "David\n",
            "Eva\n"
          ]
        }
      ],
      "source": [
        "student_names = [\"Alice\", \"Bob\", \"Charlie\", \"David\", \"Eva\"]\n",
        "\n",
        "for student in student_names:\n",
        "  print(student)"
      ]
    },
    {
      "cell_type": "code",
      "source": [
        "counter = 0 #we initialize the var\n",
        "\n",
        "while counter < 10:\n",
        "  counter = counter +1\n",
        "  print(counter)"
      ],
      "metadata": {
        "colab": {
          "base_uri": "https://localhost:8080/"
        },
        "id": "J9Ai88Fme4Cq",
        "outputId": "9c18a56a-d92a-4419-d58f-5223dbe420a7"
      },
      "execution_count": null,
      "outputs": [
        {
          "output_type": "stream",
          "name": "stdout",
          "text": [
            "1\n",
            "2\n",
            "3\n",
            "4\n",
            "5\n",
            "6\n",
            "7\n",
            "8\n",
            "9\n",
            "10\n"
          ]
        }
      ]
    },
    {
      "cell_type": "code",
      "source": [
        "counter = 0\n",
        "\n",
        "while True:\n",
        "  counter = counter + 1\n",
        "  print(counter)\n",
        "  break"
      ],
      "metadata": {
        "colab": {
          "base_uri": "https://localhost:8080/"
        },
        "id": "JJRY3Fylfv2E",
        "outputId": "a6067981-ef5f-44a8-c9fd-9d162106e8f9"
      },
      "execution_count": null,
      "outputs": [
        {
          "output_type": "stream",
          "name": "stdout",
          "text": [
            "0\n"
          ]
        }
      ]
    },
    {
      "cell_type": "code",
      "source": [
        "counter = 0\n",
        "\n",
        "while True:\n",
        "  counter = counter + 1\n",
        "  print(counter)\n",
        "  if counter < 10: #condition\n",
        "    continue\n",
        "  else:\n",
        "    break"
      ],
      "metadata": {
        "colab": {
          "base_uri": "https://localhost:8080/"
        },
        "id": "xl0g_Gckg4sF",
        "outputId": "ce3c41d1-7981-4745-d3ba-68a1c32313ef"
      },
      "execution_count": null,
      "outputs": [
        {
          "output_type": "stream",
          "name": "stdout",
          "text": [
            "1\n",
            "2\n",
            "3\n",
            "4\n",
            "5\n",
            "6\n",
            "7\n",
            "8\n",
            "9\n",
            "10\n"
          ]
        }
      ]
    },
    {
      "cell_type": "markdown",
      "source": [
        "While loop exercise"
      ],
      "metadata": {
        "id": "cnIdNP8UjSW9"
      }
    },
    {
      "cell_type": "code",
      "source": [
        "while True: #city != \"stop\"\n",
        "  city = input(\"What cities have you been to in Latvia and Estonia? To stop write 'stop'. \")\n",
        "\n",
        "  if city == \"stop\":\n",
        "    print(\"You have asked to stop\")\n",
        "    break\n",
        "  else:\n",
        "    print(f\"I see that you have been to: + {city}.\")"
      ],
      "metadata": {
        "colab": {
          "base_uri": "https://localhost:8080/",
          "height": 468
        },
        "id": "vkr-Tj-0iVfp",
        "outputId": "689cac91-2f53-4533-c485-fdf3498e1fb3"
      },
      "execution_count": null,
      "outputs": [
        {
          "output_type": "stream",
          "name": "stdout",
          "text": [
            "What cities have you been to in Latvia and Estonia? To stop write 'stop'. Riga\n",
            "I see that you have been to: + Riga.\n",
            "What cities have you been to in Latvia and Estonia? To stop write 'stop'. Gulbene\n",
            "I see that you have been to: + Gulbene.\n",
            "What cities have you been to in Latvia and Estonia? To stop write 'stop'. Jurmala\n",
            "I see that you have been to: + Jurmala.\n"
          ]
        },
        {
          "output_type": "error",
          "ename": "KeyboardInterrupt",
          "evalue": "Interrupted by user",
          "traceback": [
            "\u001b[0;31m---------------------------------------------------------------------------\u001b[0m",
            "\u001b[0;31mKeyboardInterrupt\u001b[0m                         Traceback (most recent call last)",
            "\u001b[0;32m<ipython-input-9-c18b2708290c>\u001b[0m in \u001b[0;36m<cell line: 1>\u001b[0;34m()\u001b[0m\n\u001b[1;32m      1\u001b[0m \u001b[0;32mwhile\u001b[0m \u001b[0;32mTrue\u001b[0m\u001b[0;34m:\u001b[0m\u001b[0;34m\u001b[0m\u001b[0;34m\u001b[0m\u001b[0m\n\u001b[0;32m----> 2\u001b[0;31m   \u001b[0mcity\u001b[0m \u001b[0;34m=\u001b[0m \u001b[0minput\u001b[0m\u001b[0;34m(\u001b[0m\u001b[0;34m\"What cities have you been to in Latvia and Estonia? To stop write 'stop'. \"\u001b[0m\u001b[0;34m)\u001b[0m\u001b[0;34m\u001b[0m\u001b[0;34m\u001b[0m\u001b[0m\n\u001b[0m\u001b[1;32m      3\u001b[0m \u001b[0;34m\u001b[0m\u001b[0m\n\u001b[1;32m      4\u001b[0m   \u001b[0;32mif\u001b[0m \u001b[0mcity\u001b[0m \u001b[0;34m==\u001b[0m \u001b[0;34m\"stop\"\u001b[0m\u001b[0;34m:\u001b[0m\u001b[0;34m\u001b[0m\u001b[0;34m\u001b[0m\u001b[0m\n\u001b[1;32m      5\u001b[0m     \u001b[0mprint\u001b[0m\u001b[0;34m(\u001b[0m\u001b[0;34m\"You have asked to stop\"\u001b[0m\u001b[0;34m)\u001b[0m\u001b[0;34m\u001b[0m\u001b[0;34m\u001b[0m\u001b[0m\n",
            "\u001b[0;32m/usr/local/lib/python3.10/dist-packages/ipykernel/kernelbase.py\u001b[0m in \u001b[0;36mraw_input\u001b[0;34m(self, prompt)\u001b[0m\n\u001b[1;32m    849\u001b[0m                 \u001b[0;34m\"raw_input was called, but this frontend does not support input requests.\"\u001b[0m\u001b[0;34m\u001b[0m\u001b[0;34m\u001b[0m\u001b[0m\n\u001b[1;32m    850\u001b[0m             )\n\u001b[0;32m--> 851\u001b[0;31m         return self._input_request(str(prompt),\n\u001b[0m\u001b[1;32m    852\u001b[0m             \u001b[0mself\u001b[0m\u001b[0;34m.\u001b[0m\u001b[0m_parent_ident\u001b[0m\u001b[0;34m,\u001b[0m\u001b[0;34m\u001b[0m\u001b[0;34m\u001b[0m\u001b[0m\n\u001b[1;32m    853\u001b[0m             \u001b[0mself\u001b[0m\u001b[0;34m.\u001b[0m\u001b[0m_parent_header\u001b[0m\u001b[0;34m,\u001b[0m\u001b[0;34m\u001b[0m\u001b[0;34m\u001b[0m\u001b[0m\n",
            "\u001b[0;32m/usr/local/lib/python3.10/dist-packages/ipykernel/kernelbase.py\u001b[0m in \u001b[0;36m_input_request\u001b[0;34m(self, prompt, ident, parent, password)\u001b[0m\n\u001b[1;32m    893\u001b[0m             \u001b[0;32mexcept\u001b[0m \u001b[0mKeyboardInterrupt\u001b[0m\u001b[0;34m:\u001b[0m\u001b[0;34m\u001b[0m\u001b[0;34m\u001b[0m\u001b[0m\n\u001b[1;32m    894\u001b[0m                 \u001b[0;31m# re-raise KeyboardInterrupt, to truncate traceback\u001b[0m\u001b[0;34m\u001b[0m\u001b[0;34m\u001b[0m\u001b[0m\n\u001b[0;32m--> 895\u001b[0;31m                 \u001b[0;32mraise\u001b[0m \u001b[0mKeyboardInterrupt\u001b[0m\u001b[0;34m(\u001b[0m\u001b[0;34m\"Interrupted by user\"\u001b[0m\u001b[0;34m)\u001b[0m \u001b[0;32mfrom\u001b[0m \u001b[0;32mNone\u001b[0m\u001b[0;34m\u001b[0m\u001b[0;34m\u001b[0m\u001b[0m\n\u001b[0m\u001b[1;32m    896\u001b[0m             \u001b[0;32mexcept\u001b[0m \u001b[0mException\u001b[0m \u001b[0;32mas\u001b[0m \u001b[0me\u001b[0m\u001b[0;34m:\u001b[0m\u001b[0;34m\u001b[0m\u001b[0;34m\u001b[0m\u001b[0m\n\u001b[1;32m    897\u001b[0m                 \u001b[0mself\u001b[0m\u001b[0;34m.\u001b[0m\u001b[0mlog\u001b[0m\u001b[0;34m.\u001b[0m\u001b[0mwarning\u001b[0m\u001b[0;34m(\u001b[0m\u001b[0;34m\"Invalid Message:\"\u001b[0m\u001b[0;34m,\u001b[0m \u001b[0mexc_info\u001b[0m\u001b[0;34m=\u001b[0m\u001b[0;32mTrue\u001b[0m\u001b[0;34m)\u001b[0m\u001b[0;34m\u001b[0m\u001b[0;34m\u001b[0m\u001b[0m\n",
            "\u001b[0;31mKeyboardInterrupt\u001b[0m: Interrupted by user"
          ]
        }
      ]
    },
    {
      "cell_type": "code",
      "source": [
        "list_of_cities = []\n",
        "\n",
        "while True: #city != 'stop'\n",
        "  city = input('What cities have you been to in Latvia or Estonia? To stop write \"stop\" ')\n",
        "\n",
        "  if city == \"stop\":\n",
        "    print(\"You have asked to stop.\")\n",
        "    break\n",
        "  else:\n",
        "    list_of_cities.append(city)\n",
        "\n",
        "print(f'You have been to {len(list_of_cities)} cities')"
      ],
      "metadata": {
        "colab": {
          "base_uri": "https://localhost:8080/"
        },
        "id": "aXregnGMlW4_",
        "outputId": "6d5735a1-c5b9-4777-defe-b0cf26265956"
      },
      "execution_count": null,
      "outputs": [
        {
          "output_type": "stream",
          "name": "stdout",
          "text": [
            "What cities have you been to in Latvia or Estonia? To stop write \"stop\" Tallinn\n",
            "What cities have you been to in Latvia or Estonia? To stop write \"stop\" Riga\n",
            "What cities have you been to in Latvia or Estonia? To stop write \"stop\" Jurmala\n",
            "What cities have you been to in Latvia or Estonia? To stop write \"stop\" Liepaja\n",
            "What cities have you been to in Latvia or Estonia? To stop write \"stop\" Ventspils\n",
            "What cities have you been to in Latvia or Estonia? To stop write \"stop\" Aluksne\n",
            "What cities have you been to in Latvia or Estonia? To stop write \"stop\" stop\n",
            "You have been to 6 cities\n"
          ]
        }
      ]
    },
    {
      "cell_type": "code",
      "source": [
        "list_of_cities = []\n",
        "counter = 0\n",
        "\n",
        "while True: #city != 'stop'\n",
        "  city = input('What cities have you been to in Latvia or Estonia? To stop write \"stop\" ')\n",
        "\n",
        "  if city == \"stop\":\n",
        "    print(\"You have asked to stop.\")\n",
        "    break\n",
        "  else:\n",
        "    counter = counter + 1\n",
        "    print(f\"{counter}. I see that you've been to {city}.\") #counter may be repalced with {len(cities_list)}\n",
        "    list_of_cities.append(city)\n",
        "\n",
        "print(f'{counter}. You have been to {counter} cities')"
      ],
      "metadata": {
        "id": "Tr3yALSCoDsX"
      },
      "execution_count": null,
      "outputs": []
    },
    {
      "cell_type": "markdown",
      "source": [
        "**IMPORTING A  LIBRARY**"
      ],
      "metadata": {
        "id": "_qGkNdZ4qnog"
      }
    },
    {
      "cell_type": "code",
      "source": [
        "import random"
      ],
      "metadata": {
        "id": "vMJmda6eu27W"
      },
      "execution_count": null,
      "outputs": []
    },
    {
      "cell_type": "code",
      "source": [
        "import random\n",
        "\n",
        "random_number = random.randint(1, 101) #range\n",
        "print(random_number)"
      ],
      "metadata": {
        "colab": {
          "base_uri": "https://localhost:8080/"
        },
        "id": "To7CurUbqyNq",
        "outputId": "cda67a54-2656-40f5-c83b-641ee928c005"
      },
      "execution_count": null,
      "outputs": [
        {
          "output_type": "stream",
          "name": "stdout",
          "text": [
            "31\n"
          ]
        }
      ]
    },
    {
      "cell_type": "code",
      "source": [
        "import random\n",
        "\n",
        "while True:\n",
        "  random_number = random.randint(1, 101)\n",
        "  guess = input(\"Guess the number between 1 and 100, to stop - write 'stop'.\")\n",
        "\n",
        "  if guess == \"stop\":\n",
        "    print(\"You asked to stop the guessing game.\")\n",
        "    print(f\"The guessed number was {random_number}\")\n",
        "    break\n",
        "\n",
        "  guess = int(guess)\n",
        "\n",
        "  if guess == random_number:\n",
        "    print(\"You have won, you have guessed the correct number!\")\n",
        "    break\n",
        "  else:\n",
        "    if guess > random_number:\n",
        "      print(\"Wrong, try lower!\")\n",
        "    if guess < random_number:\n",
        "      print(\"Wrong, try higher!\")"
      ],
      "metadata": {
        "colab": {
          "base_uri": "https://localhost:8080/"
        },
        "id": "X3m_T05BulYA",
        "outputId": "5ac3b3b5-2765-4aa6-9705-897268282aae"
      },
      "execution_count": null,
      "outputs": [
        {
          "output_type": "stream",
          "name": "stdout",
          "text": [
            "Guess the number between 1 and 100, to stop - write 'stop'.56\n",
            "Wrong, guess again.\n",
            "Guess the number between 1 and 100, to stop - write 'stop'.43\n",
            "Wrong, guess again.\n",
            "Guess the number between 1 and 100, to stop - write 'stop'.stop\n",
            "You asked to stop the guessing game.\n"
          ]
        }
      ]
    },
    {
      "cell_type": "code",
      "source": [
        "#add a list of all guesses\n",
        "#in the end print the total number of guesses\n",
        "\n",
        "guesses = []\n",
        "\n",
        "import random\n",
        "\n",
        "while True:\n",
        "  random_number = random.randint(1, 101)\n",
        "  guess = input(\"Guess the number between 1 and 100, to stop - write 'stop'.\")\n",
        "\n",
        "  if guess == \"stop\":\n",
        "    print(\"You asked to stop the guessing game.\")\n",
        "    print(f\"The guessed number was {random_number}\")\n",
        "    break\n",
        "\n",
        "  try:\n",
        "    guess = int(guess)\n",
        "    guesses.append(guess) #adding the guess to the list of all guesses\n",
        "  except ValueError:\n",
        "    print(\"You need to input an integer!\")\n",
        "    continue\n",
        "\n",
        "  if guess == random_number:\n",
        "    print(\"You have won, you have guessed the correct number!\")\n",
        "    print(f\"You've made {len(guesses)} guesses in total.\")\n",
        "    break\n",
        "  else:\n",
        "    if guess > random_number:\n",
        "      print(\"Wrong, try lower!\")\n",
        "    if guess < random_number:\n",
        "      print(\"Wrong, try higher!\")"
      ],
      "metadata": {
        "colab": {
          "base_uri": "https://localhost:8080/",
          "height": 108
        },
        "id": "Ure1ieB5zQCm",
        "outputId": "7256b13d-b940-46c6-80ba-3023e6fd48a8"
      },
      "execution_count": null,
      "outputs": [
        {
          "output_type": "error",
          "ename": "SyntaxError",
          "evalue": "invalid syntax (<ipython-input-20-d8ff98cf82dd>, line 29)",
          "traceback": [
            "\u001b[0;36m  File \u001b[0;32m\"<ipython-input-20-d8ff98cf82dd>\"\u001b[0;36m, line \u001b[0;32m29\u001b[0m\n\u001b[0;31m    except ValueError:\u001b[0m\n\u001b[0m    ^\u001b[0m\n\u001b[0;31mSyntaxError\u001b[0m\u001b[0;31m:\u001b[0m invalid syntax\n"
          ]
        }
      ]
    },
    {
      "cell_type": "markdown",
      "source": [
        "Steps (for simplifying the code logic):\n",
        "\n",
        "---\n",
        "\n",
        "\n",
        "\n",
        "Step 1: Print a welcoming message to the player.\n",
        "\n",
        "Step 2: Initialize variables to keep track of the number of correct guesses and the total number of guesses.\n",
        "\n",
        "Step 3: Use a while loop to keep the game running until the player decides to quit.\n",
        "\n",
        "Step 4: If the player enters 'quit', exit the game loop.\n",
        "\n",
        "Step 5: Ask the player to guess the outcome of the coin toss (heads or tails).\n",
        "\n",
        "Step 6: Generate a random number (0 or 1) to represent the outcome of the coin toss. (If the number is 0, the outcome is heads. If it's 1, the outcome is tails.)\n",
        "\n",
        "Step 7: Compare the player's guess with the generated outcome.\n",
        "Step 8: Increment the correct and total number of guesses"
      ],
      "metadata": {
        "id": "mEFcfaSa7e_P"
      }
    },
    {
      "cell_type": "code",
      "source": [
        "import random\n",
        "\n",
        "print(\"Hello!\")\n",
        "\n",
        "correct_guesses = 0\n",
        "total_guesses = 0\n",
        "\n",
        "while True:\n",
        "    coin_toss = random.randint(0, 1)\n",
        "    guess = input(\"Guess heads (0) or tails (1)! To quit the game enter 'quit'.\")\n",
        "\n",
        "    if guess == \"quit\":\n",
        "        print(\"You asked to stop the game.\")\n",
        "        print(f\"The number of total guesses: {total_guesses}. The number of correct guesses: {correct_guesses}\")\n",
        "        if coin_toss == 0:\n",
        "            toss = \"heads\"\n",
        "        else:\n",
        "            toss = \"tails\"\n",
        "        print(f\"The coin toss was {toss}\")\n",
        "        break\n",
        "\n",
        "    try:\n",
        "        guess = int(guess)\n",
        "    except ValueError:\n",
        "        print(\"You need to input 0 or 1\")\n",
        "        continue\n",
        "\n",
        "    total_guesses = total_guesses + 1\n",
        "\n",
        "    if guess == coin_toss:\n",
        "        correct_guesses = correct_guesses + 1\n",
        "        print(\"You have won!\")\n",
        "        print(f\"The number of total guesses: {total_guesses}. The number of correct guesses: {correct_guesses}\")\n",
        "        break\n",
        "    else:\n",
        "        print(\"Wrong, guess again!\")"
      ],
      "metadata": {
        "colab": {
          "base_uri": "https://localhost:8080/"
        },
        "id": "MvSY7wMq1MUd",
        "outputId": "3a5b2250-ee8b-4094-eeb6-2441de1abe7e"
      },
      "execution_count": null,
      "outputs": [
        {
          "output_type": "stream",
          "name": "stdout",
          "text": [
            "Hello!\n",
            "Guess heads (0) or tails (1)! To quit the game enter 'quit'.0\n",
            "Wrong, guess again!\n",
            "Guess heads (0) or tails (1)! To quit the game enter 'quit'.1\n",
            "You have won!\n",
            "The number ot total guesses: 2. The number of correct guesses: 2\n"
          ]
        }
      ]
    }
  ]
}