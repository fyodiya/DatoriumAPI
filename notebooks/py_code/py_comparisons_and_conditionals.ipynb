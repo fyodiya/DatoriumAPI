{
  "nbformat": 4,
  "nbformat_minor": 0,
  "metadata": {
    "colab": {
      "provenance": []
    },
    "kernelspec": {
      "name": "python3",
      "display_name": "Python 3"
    },
    "language_info": {
      "name": "python"
    }
  },
  "cells": [
    {
      "cell_type": "markdown",
      "source": [
        "**COMPARISONS**"
      ],
      "metadata": {
        "id": "bsOFiUaQO5cB"
      }
    },
    {
      "cell_type": "code",
      "source": [
        "# equal to (==)\n",
        "\n",
        "x = 5\n",
        "y = 8\n",
        "print(x == y)\n",
        "print(\"1\" == 1) #false"
      ],
      "metadata": {
        "colab": {
          "base_uri": "https://localhost:8080/"
        },
        "id": "5NTcj25GO8uK",
        "outputId": "5b947b8d-e6c4-45ac-ea52-dd8e55943263"
      },
      "execution_count": null,
      "outputs": [
        {
          "output_type": "stream",
          "name": "stdout",
          "text": [
            "False\n",
            "False\n"
          ]
        }
      ]
    },
    {
      "cell_type": "code",
      "source": [
        "# not equal to (!=)\n",
        "\n",
        "print(x != 9)"
      ],
      "metadata": {
        "colab": {
          "base_uri": "https://localhost:8080/"
        },
        "id": "-lkUAa-UQMcF",
        "outputId": "3b96f782-0854-4ed0-8d64-cef391b3cb90"
      },
      "execution_count": null,
      "outputs": [
        {
          "output_type": "stream",
          "name": "stdout",
          "text": [
            "True\n"
          ]
        }
      ]
    },
    {
      "cell_type": "code",
      "source": [
        "# greater than (>)\n",
        "\n",
        "print( x > y)\n",
        "print(y > 3)"
      ],
      "metadata": {
        "colab": {
          "base_uri": "https://localhost:8080/"
        },
        "id": "ODSQ9kQlQfsf",
        "outputId": "21dc4547-c1ac-4857-825e-c93ef46dd00f"
      },
      "execution_count": null,
      "outputs": [
        {
          "output_type": "stream",
          "name": "stdout",
          "text": [
            "False\n",
            "True\n"
          ]
        }
      ]
    },
    {
      "cell_type": "code",
      "source": [
        "# less than\n",
        "\n",
        "print(x < y)"
      ],
      "metadata": {
        "colab": {
          "base_uri": "https://localhost:8080/"
        },
        "id": "yez8nRBQQuzJ",
        "outputId": "d315d8d2-b02c-4d0e-ed68-6b72cfd2935a"
      },
      "execution_count": null,
      "outputs": [
        {
          "output_type": "stream",
          "name": "stdout",
          "text": [
            "True\n"
          ]
        }
      ]
    },
    {
      "cell_type": "code",
      "source": [
        "# greater than or equal to (>=)\n",
        "\n",
        "print(x >= y)\n",
        "\n",
        "# less than or equal to (<=)\n",
        "\n",
        "print(y <= 10)"
      ],
      "metadata": {
        "colab": {
          "base_uri": "https://localhost:8080/"
        },
        "id": "Fq_AsItKQ7hV",
        "outputId": "7bcec709-397e-4f90-a667-46a15742fd72"
      },
      "execution_count": null,
      "outputs": [
        {
          "output_type": "stream",
          "name": "stdout",
          "text": [
            "False\n",
            "True\n"
          ]
        }
      ]
    },
    {
      "cell_type": "markdown",
      "source": [
        "**IF** **ELSE**"
      ],
      "metadata": {
        "id": "JiNoH_kYSMrO"
      }
    },
    {
      "cell_type": "code",
      "source": [
        "x = 100\n",
        "\n",
        "if x < 50:\n",
        "  print(\"Less than 50\")\n",
        "else:\n",
        "  print(\"More than or equal to 50\")\n",
        "print(\"Finish\") # end of the loop\n",
        "\n",
        "# instead of brackets Python uses indentations to separate blocks of code\n"
      ],
      "metadata": {
        "colab": {
          "base_uri": "https://localhost:8080/"
        },
        "id": "23K6W8K1SL9H",
        "outputId": "db65dd6c-d516-4aaf-b036-1fbc93f16d93"
      },
      "execution_count": null,
      "outputs": [
        {
          "output_type": "stream",
          "name": "stdout",
          "text": [
            "More than 50\n",
            "Finish\n"
          ]
        }
      ]
    },
    {
      "cell_type": "code",
      "source": [
        "age = int(input(\"What is your age? \"))\n",
        "\n",
        "if age >= 18:\n",
        "  print(\"You are eligible to vote.\") #this is inside the block\n",
        "else: print(\"You are not old enough to vote.\")\n",
        "print(\"Thank you for participation\") #this is outside the bloc"
      ],
      "metadata": {
        "colab": {
          "base_uri": "https://localhost:8080/"
        },
        "id": "fK57ViUbVT3A",
        "outputId": "e6de7129-59c9-4942-93ef-b7d09dc73dcf"
      },
      "execution_count": null,
      "outputs": [
        {
          "output_type": "stream",
          "name": "stdout",
          "text": [
            "What is your age? 18\n",
            "You are eligible to vote\n",
            "Thank you for participation\n"
          ]
        }
      ]
    },
    {
      "cell_type": "code",
      "source": [
        "number = int(input(\"Enter any number: \"))\n",
        "\n",
        "if number % 2 == 0: #after division there is no remainder\n",
        "  print(f\"The number {number} is even!\")\n",
        "else:\n",
        "  print(f\"The number {number} is odd!\")"
      ],
      "metadata": {
        "colab": {
          "base_uri": "https://localhost:8080/"
        },
        "id": "jCoMfB-pXbqT",
        "outputId": "b0dce05f-69af-44e0-fc08-47e191c627c7"
      },
      "execution_count": null,
      "outputs": [
        {
          "output_type": "stream",
          "name": "stdout",
          "text": [
            "Enter any number: 345\n",
            "The number 345 is odd!\n"
          ]
        }
      ]
    },
    {
      "cell_type": "markdown",
      "source": [
        "**PAYMENT APPROVAL**"
      ],
      "metadata": {
        "id": "rOqCrcUFZS_L"
      }
    },
    {
      "cell_type": "code",
      "source": [
        "# if the transaction can be done based on the account balance\n",
        "\n",
        "account_balance = float(input(\"Enter your account balance: \"))\n",
        "transaction_amount = float(input(\"Enter the transaction amount: \"))\n",
        "\n",
        "if account_balance >= transaction_amount:\n",
        "  print(\"The transaction is successful.\")\n",
        "else:\n",
        "  print(\"The transaction cannot be performed, insufficient funds!\")\n"
      ],
      "metadata": {
        "colab": {
          "base_uri": "https://localhost:8080/"
        },
        "id": "ar5NUYN3ZP7C",
        "outputId": "ee5aa5f0-9065-4a16-c0b6-80da122d4266"
      },
      "execution_count": null,
      "outputs": [
        {
          "output_type": "stream",
          "name": "stdout",
          "text": [
            "Enter your account balance: 34\n",
            "Enter the transaction amount: 34.01\n",
            "The transaction cannot be performed,insufficient funds!\n"
          ]
        }
      ]
    },
    {
      "cell_type": "markdown",
      "source": [
        "**ACCESS MANAGEMENT SYSTEM**"
      ],
      "metadata": {
        "id": "yAptgYbueUNy"
      }
    },
    {
      "cell_type": "code",
      "source": [
        "from sre_constants import AT_END_LINE\n",
        "#username\n",
        "#password\n",
        "\n",
        "stored_username = \"user123\"\n",
        "stored_password = \"pass123\"\n",
        "input_username = input(\"please enter your username: \")\n",
        "input_password = input(\"please neter your password: \")\n",
        "\n",
        "if input_username == stored_username and input_password == stored_password:\n",
        "  print(\"The login is successful.\")\n",
        "else:\n",
        "  print(\"The username and/or password is/are incorrect\")\n"
      ],
      "metadata": {
        "colab": {
          "base_uri": "https://localhost:8080/"
        },
        "id": "UmQchwV7eYOv",
        "outputId": "5767aa86-5100-4d1f-ca74-61a3e068038e"
      },
      "execution_count": null,
      "outputs": [
        {
          "output_type": "stream",
          "name": "stdout",
          "text": [
            "please enter your username: user12\n",
            "please neter your password: pass123\n",
            "The username and/or password is/are incorrect\n"
          ]
        }
      ]
    },
    {
      "cell_type": "markdown",
      "source": [
        "**ELSE IF** - multiway decisions\n",
        "\n",
        "if\n",
        "\n",
        "elif #else if\n",
        "\n",
        "else"
      ],
      "metadata": {
        "id": "2JsRnvjehOGx"
      }
    },
    {
      "cell_type": "code",
      "source": [
        "x = 10\n",
        "\n",
        "if x < 5:\n",
        "  print(\"x is a small number\")\n",
        "elif x < 15:\n",
        "  print(\"x is a medium number\")\n",
        "else:\n",
        "  print(\"x is a large number\")\n",
        "print(\"The end.\")"
      ],
      "metadata": {
        "colab": {
          "base_uri": "https://localhost:8080/"
        },
        "id": "CSMROqsPhCIZ",
        "outputId": "02ec5251-03b3-41f3-de75-028942c75dc5"
      },
      "execution_count": null,
      "outputs": [
        {
          "output_type": "stream",
          "name": "stdout",
          "text": [
            "x is a medium number\n",
            "The end.\n"
          ]
        }
      ]
    },
    {
      "cell_type": "markdown",
      "source": [
        "**GRADING**"
      ],
      "metadata": {
        "id": "PWh66Cg5iMV4"
      }
    },
    {
      "cell_type": "code",
      "source": [
        "# grading in scale of 100, conveert 100 to ABCDEF\n",
        "\n",
        "score = int(input(\"Please enter your score: \"))\n",
        "\n",
        "if score >= 90:\n",
        "  print(\"Your score is A!\")\n",
        "elif score >= 80:\n",
        "  print(\"Your score is B!\")\n",
        "elif score >= 70:\n",
        "  print(\"Your score is C!\")\n",
        "elif score >= 60:\n",
        "  print(\"Your score is D!\")\n",
        "elif score >= 40:\n",
        "  print(\"Your score is E!\")\n",
        "else\n",
        "  print(\"Your score is F! You didn't pass.\")\n",
        "print(\"Finish.\")\n"
      ],
      "metadata": {
        "colab": {
          "base_uri": "https://localhost:8080/"
        },
        "id": "aEpOcqKiiN5G",
        "outputId": "c09329cc-94bb-4121-bf4e-1115d22f1c71"
      },
      "execution_count": null,
      "outputs": [
        {
          "output_type": "stream",
          "name": "stdout",
          "text": [
            "Please enter your score: 35\n",
            "Your score is F!\n",
            "Finish.\n"
          ]
        }
      ]
    },
    {
      "cell_type": "markdown",
      "source": [
        "**EXCEPT**"
      ],
      "metadata": {
        "id": "EI52KcxoljvA"
      }
    },
    {
      "cell_type": "code",
      "source": [
        "try:\n",
        "\n",
        "  score = int(input(\"Please enter your score: \"))\n",
        "\n",
        "  if score >= 90:\n",
        "    print(\"Your score is A!\")\n",
        "  elif score >= 80:\n",
        "    print(\"Your score is B!\")\n",
        "  elif score >= 70:\n",
        "    print(\"Your score is C!\")\n",
        "  elif score >= 60:\n",
        "    print(\"Your score is D!\")\n",
        "  elif score >= 40:\n",
        "    print(\"Your score is E!\")\n",
        "  else\n",
        "    print(\"Your score is F! You didn't pass.\")\n",
        "\n",
        "except Exception as e:\n",
        "  print(f\"Wrong input! Exception was {e}\")\n",
        "print(\"Finish.\")"
      ],
      "metadata": {
        "id": "ftv2trrAlQrE"
      },
      "execution_count": null,
      "outputs": []
    },
    {
      "cell_type": "code",
      "source": [
        "try:\n",
        "\n",
        "  account_balance = float(input(\"Enter your account balance: \"))\n",
        "  transaction_amount = float(input(\"Enter the transaction amount: \"))\n",
        "\n",
        "  if account_balance >= transaction_amount:\n",
        "    print(\"The transaction is successful.\")\n",
        "  else:\n",
        "    print(\"The transaction cannot be performed, insufficient funds!\")\n",
        "\n",
        "except Exception as e:\n",
        "  print(f\"Wrong input: {e}\")"
      ],
      "metadata": {
        "colab": {
          "base_uri": "https://localhost:8080/"
        },
        "id": "R8_10vLcm7Gk",
        "outputId": "efd495f8-9946-4ba3-c723-6b12d89ce517"
      },
      "execution_count": null,
      "outputs": [
        {
          "output_type": "stream",
          "name": "stdout",
          "text": [
            "Enter your account balance: gt7\n",
            "Wrong input, exception was could not convert string to float: 'gt7'\n"
          ]
        }
      ]
    },
    {
      "cell_type": "markdown",
      "source": [
        "**TASK for group**"
      ],
      "metadata": {
        "id": "herhJ-RBtusy"
      }
    },
    {
      "cell_type": "code",
      "source": [
        "# Create a Python program for temperature conversion between Celsius and Fahrenheit scales.\n",
        "# The program should prompt users to select the direction of conversion,\n",
        "# accept input for the temperature value, and accurately perform the conversion (use IF and/or ELSE).\n",
        "# Output should be displayed with formatted strings showing both the original and converted temperatures.\n",
        "\n",
        "system = input('Is temperature in C or F: ')\n",
        "temp = int(input('Insert temperature: '))\n",
        "\n",
        "if system == 'F':\n",
        "  celsius = (temp - 32) / 1.8 #actual conversion\n",
        "  print(f\"{temp}°F in Fahrenheit is {celsius}°C in Celsius\")\n",
        "elif system == 'C':\n",
        "  fahrenheit = (temp * 1.8) + 32 #actual conversion\n",
        "  print(f\"{temp}°C in Celsius is {fahrenheit}°F in Fahrenheit\")\n",
        "else:\n",
        "  print('Incorrect input!')"
      ],
      "metadata": {
        "id": "4Ion6z0Ntpnn"
      },
      "execution_count": null,
      "outputs": []
    },
    {
      "cell_type": "code",
      "source": [
        "#Celsius to Fahrenheit\n",
        "#(Celsius * 1.8) + 32\n",
        "\n",
        "conversionType = input(\"Enter 'C' for Celsius to Fahrenheit conversion or 'F' for Fahrenheit to Celsius conversion: \")\n",
        "\n",
        "# Celsius to Fahrenheit conversion\n",
        "if conversionType == 'C':\n",
        "    celsius = float(input(\"Enter the temperature in Celsius: \")) #user input\n",
        "    fahrenheit = (celsius * 1.8) + 32 #actual conversion\n",
        "    print(f\"{celsius}° in Celsius is {fahrenheit}° in Fahrenheit\")\n",
        "# Fahrenheit to Celsius conversion\n",
        "elif conversionType == 'F':\n",
        "    fahrenheit = float(input(\"Enter the temperature in Fahrenheit: \")) #user input\n",
        "    celsius = (fahrenheit - 32) / 1.8 #actual conversion\n",
        "    print(f\"{fahrenheit}°F in Fahrenheit is {celsius}°C in Celsius\")"
      ],
      "metadata": {
        "id": "GSmXpMY7o8aN"
      },
      "execution_count": null,
      "outputs": []
    }
  ]
}