{
  "nbformat": 4,
  "nbformat_minor": 0,
  "metadata": {
    "colab": {
      "provenance": []
    },
    "kernelspec": {
      "name": "python3",
      "display_name": "Python 3"
    },
    "language_info": {
      "name": "python"
    }
  },
  "cells": [
    {
      "cell_type": "markdown",
      "source": [
        "***LISTS***"
      ],
      "metadata": {
        "id": "DVzzx8NXX0WF"
      }
    },
    {
      "cell_type": "code",
      "execution_count": null,
      "metadata": {
        "colab": {
          "base_uri": "https://localhost:8080/"
        },
        "id": "-bWVFJ7MVxGb",
        "outputId": "a3b7a74f-8bf3-4fad-d8ba-c0d685ea1c9a"
      },
      "outputs": [
        {
          "output_type": "stream",
          "name": "stdout",
          "text": [
            "Enter the fruit: apple\n",
            "Yes, apple is in our list of fruits!\n"
          ]
        }
      ],
      "source": [
        "fruits = ['apple', 'orange', 'banana', 'grape', 'kiwi']\n",
        "\n",
        "user_input = input(\"Enter the fruit: \")\n",
        "if user_input in fruits:\n",
        "    print(f'Yes, {user_input} is in our list of fruits!')\n",
        "else:\n",
        "    print(f'No, {user_input} is not in our list of fruits!')"
      ]
    },
    {
      "cell_type": "code",
      "source": [
        "numbers = [1, 20, 35, 400, 5]\n",
        "number = int(input(\"Please enter your number: \"))\n",
        "\n",
        "if number in numbers:\n",
        "  if (number % 2 == 0):\n",
        "    print(f'Yes, {number} is on the list, and it is an even number.')\n",
        "  else:\n",
        "    print(f'No, {number} is on the list, and it is an odd number.')\n",
        "else:\n",
        "  print(f\"No, {number} is not on the list!\")"
      ],
      "metadata": {
        "colab": {
          "base_uri": "https://localhost:8080/"
        },
        "id": "N-kA4Z7jZ1PL",
        "outputId": "297d9212-da7c-4bad-def7-62cb61faf5ec"
      },
      "execution_count": null,
      "outputs": [
        {
          "output_type": "stream",
          "name": "stdout",
          "text": [
            "Please enter your number: 400\n",
            "Yes, 400 is on the list, and it is an even number.\n"
          ]
        }
      ]
    },
    {
      "cell_type": "markdown",
      "source": [
        "**LIST METHODS**"
      ],
      "metadata": {
        "id": "jqXM9Lh8buzr"
      }
    },
    {
      "cell_type": "code",
      "source": [
        "# APPEND\n",
        "\n",
        "items = [\"apple\", \"kiwi\", \"orange\"]\n",
        "print(f\"original items: {items}\")\n",
        "\n",
        "my_value = \"banana\"\n",
        "items.append(my_value)\n",
        "print(f\"updated version of items: {items}\")"
      ],
      "metadata": {
        "colab": {
          "base_uri": "https://localhost:8080/"
        },
        "id": "g8Rk0xUObUcx",
        "outputId": "93e58c96-fd54-4771-877d-8a85069742c9"
      },
      "execution_count": null,
      "outputs": [
        {
          "output_type": "stream",
          "name": "stdout",
          "text": [
            "original items: ['apple', 'kiwi', 'orange']\n",
            "updated version of items: ['apple', 'kiwi', 'orange', 'banana']\n"
          ]
        }
      ]
    },
    {
      "cell_type": "code",
      "source": [
        "# COPY\n",
        "\n",
        "original_list = [1, 2, 3, 4, 5]\n",
        "copied_list = original_list.copy()\n",
        "\n",
        "original_list.append(6)\n",
        "print(original_list) #[1, 2, 3, 4, 5, 6]\n",
        "print(copied_list) #[1, 2, 3, 4, 5]"
      ],
      "metadata": {
        "colab": {
          "base_uri": "https://localhost:8080/"
        },
        "id": "6YKD26pKc1PU",
        "outputId": "d22ff217-a981-4e69-beec-85a4613528ea"
      },
      "execution_count": null,
      "outputs": [
        {
          "output_type": "stream",
          "name": "stdout",
          "text": [
            "[1, 2, 3, 4, 5, 6]\n",
            "[1, 2, 3, 4, 5]\n"
          ]
        }
      ]
    },
    {
      "cell_type": "code",
      "source": [
        "# COUNT\n",
        "\n",
        "numbers = [1, 2, 4, 7, 5, 2, 2]\n",
        "\n",
        "numbers.count(2) #3\n",
        "\n",
        "target_number = 2\n",
        "count = numbers.count(target_number)\n",
        "print(f\"The number '{target_number}' appears {count} times in our list!\")"
      ],
      "metadata": {
        "colab": {
          "base_uri": "https://localhost:8080/"
        },
        "id": "V1kPMmFReBoB",
        "outputId": "e80fde53-5b16-4b87-8191-cafe27286c12"
      },
      "execution_count": null,
      "outputs": [
        {
          "output_type": "stream",
          "name": "stdout",
          "text": [
            "The number '2' appears 3 times in our list!\n"
          ]
        }
      ]
    },
    {
      "cell_type": "code",
      "source": [
        "# INDEX\n",
        "\n",
        "fruits = [\"apple\", \"banana\", \"orange\"]\n",
        "fruits_index = fruits.index(\"banana\")\n",
        "print(f\"index of 'banana' is: {fruits_index}\")"
      ],
      "metadata": {
        "colab": {
          "base_uri": "https://localhost:8080/"
        },
        "id": "TGN1HyCnf4s0",
        "outputId": "1d2709a9-60c5-4699-b066-e6547fa2c9be"
      },
      "execution_count": null,
      "outputs": [
        {
          "output_type": "stream",
          "name": "stdout",
          "text": [
            "index of 'banana' is: 1\n"
          ]
        }
      ]
    },
    {
      "cell_type": "code",
      "source": [
        "# INSERT\n",
        "fruits = [\"apple\", \"banana\", \"orange\"]\n",
        "fruits.insert(2, \"kiwi\")\n",
        "print(fruits)"
      ],
      "metadata": {
        "colab": {
          "base_uri": "https://localhost:8080/"
        },
        "id": "9oG34q81gro1",
        "outputId": "34c542ef-4616-48b5-daf7-c341dd629d1d"
      },
      "execution_count": null,
      "outputs": [
        {
          "output_type": "stream",
          "name": "stdout",
          "text": [
            "['apple', 'banana', 'kiwi', 'orange']\n"
          ]
        }
      ]
    },
    {
      "cell_type": "code",
      "source": [
        "# REMOVE the 1st occurence of the element\n",
        "fruits = [\"apple\", \"banana\", \"orange\"]\n",
        "fruits.pop(2)\n",
        "print(fruits)\n",
        "\n",
        "numbers = [1, 2, 10, 3, 4, 5]\n",
        "popped_element = numbers.pop(2)\n",
        "print(popped_element)\n",
        "print(numbers)"
      ],
      "metadata": {
        "colab": {
          "base_uri": "https://localhost:8080/"
        },
        "id": "vnYojLEhhduZ",
        "outputId": "2a47f849-79e3-448b-c3c6-b3552f5041b6"
      },
      "execution_count": null,
      "outputs": [
        {
          "output_type": "stream",
          "name": "stdout",
          "text": [
            "['apple', 'banana']\n"
          ]
        }
      ]
    },
    {
      "cell_type": "code",
      "source": [
        "# SORT\n",
        "numbers = [1, 2, 7, 4, 10, 3]\n",
        "numbers.sort()\n",
        "print(numbers)"
      ],
      "metadata": {
        "colab": {
          "base_uri": "https://localhost:8080/"
        },
        "id": "L1OX_dfWh8rN",
        "outputId": "7807a192-1b74-45ea-a62a-448aac2878d0"
      },
      "execution_count": null,
      "outputs": [
        {
          "output_type": "stream",
          "name": "stdout",
          "text": [
            "[1, 2, 3, 4, 7, 10]\n"
          ]
        }
      ]
    },
    {
      "cell_type": "code",
      "source": [
        "# REVERSE\n",
        "numbers = [1, 2, 7, 4, 10, 3]\n",
        "numbers.sort()\n",
        "numbers.reverse()\n",
        "print(numbers)"
      ],
      "metadata": {
        "colab": {
          "base_uri": "https://localhost:8080/"
        },
        "id": "Nxe_yzhMijnf",
        "outputId": "91083a04-592d-4b5e-9382-0df9570bdc6d"
      },
      "execution_count": null,
      "outputs": [
        {
          "output_type": "stream",
          "name": "stdout",
          "text": [
            "[10, 7, 4, 3, 2, 1]\n"
          ]
        }
      ]
    },
    {
      "cell_type": "code",
      "source": [
        "numbers = [1, 6, 13, 2, 5]\n",
        "\n",
        "max_value = max(numbers)\n",
        "print(f\"The maximum value in the list is: {max_value}\")\n",
        "\n",
        "min_value = min(numbers)\n",
        "print(f\"The minimum value in the list is: {min_value}\")\n",
        "\n",
        "average_value = sum(numbers) / len(numbers)\n",
        "print(f\"The average value in the list is: {average_value}\")\n",
        "\n",
        "# if the average val is higher than 3\n",
        "if average_value > 3:\n",
        "  print(\"The average value of numbers in the list is higher than 3\")\n",
        "else:\n",
        "  print(\"The average value of numbers on the list is lower than 3\")\n",
        "\n",
        "#sorting\n",
        "numbers.sort()\n",
        "\n",
        "#removing 1st element\n",
        "numbers.pop(0)\n",
        "\n",
        "#adding my name to the list\n",
        "numbers.append(\"Elina\")\n",
        "\n",
        "#index of my name\n",
        "numbers.index(\"Elina\")"
      ],
      "metadata": {
        "colab": {
          "base_uri": "https://localhost:8080/"
        },
        "id": "PcimxauclxGB",
        "outputId": "617ad237-116d-4658-c631-7eac4e80fb25"
      },
      "execution_count": null,
      "outputs": [
        {
          "output_type": "stream",
          "name": "stdout",
          "text": [
            "The maximum value in the list is: 13\n",
            "The minimum value in the list is: 1\n",
            "The average value in the list is: 5.4\n",
            "The average value of numbers in the list is higher than 3\n"
          ]
        },
        {
          "output_type": "execute_result",
          "data": {
            "text/plain": [
              "4"
            ]
          },
          "metadata": {},
          "execution_count": 30
        }
      ]
    }
  ]
}