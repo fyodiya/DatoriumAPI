{
  "cells": [
    {
      "cell_type": "markdown",
      "metadata": {
        "id": "d_QaozIW0H3N"
      },
      "source": [
        "### Task 1 Calculate the Body Mass Index (BMI)"
      ]
    },
    {
      "cell_type": "markdown",
      "metadata": {
        "id": "pMJl7kFa0H3R"
      },
      "source": [
        "Description:\n",
        "Body Mass Index (BMI) is a measure of body fat based on height and weight. It is calculated by dividing a person's weight in kilograms by the square of their height in meters. The formula for BMI is:\n",
        "\n",
        "\\[BMI = \\frac{weight (kg)}{height (m)^2}\\]\n",
        "\n",
        "Write a Python program that prompts the user to enter their weight in kilograms and their height in meters, then calculates and displays their BMI.\n",
        "\n",
        "Example Output:\n",
        "```\n",
        "Enter your weight in kilograms: 70\n",
        "Enter your height in meters: 1.75\n",
        "Your BMI is: 22.86\n",
        "```\n",
        "\n",
        "Your task is to write Python code to achieve the above functionality."
      ]
    },
    {
      "cell_type": "code",
      "execution_count": null,
      "metadata": {
        "colab": {
          "base_uri": "https://localhost:8080/"
        },
        "id": "_4OqYw800H3T",
        "outputId": "f8be6549-1845-4dd8-93bd-ddddb2b40219"
      },
      "outputs": [
        {
          "output_type": "stream",
          "name": "stdout",
          "text": [
            "Please enter the body weight in kilograms: 53\n",
            "Please enter the height in meters: 1.67\n",
            "BMI for weight 53 kg and height 1.67 cm is 19.0\n"
          ]
        }
      ],
      "source": [
        "# Your code\n",
        "input_weight = int(input(\"Please enter the body weight in kilograms: \"))\n",
        "input_height = float(input(\"Please enter the height in meters: \"))\n",
        "BMI = round(input_weight/float(input_height*input_height), 2)\n",
        "print(f\"BMI for weight {input_weight} kg and height {input_height} m is {BMI}\")"
      ]
    },
    {
      "cell_type": "markdown",
      "metadata": {
        "id": "qYHHooHB0H3V"
      },
      "source": [
        "### Task 2: Convert miles into kilometers"
      ]
    },
    {
      "cell_type": "code",
      "execution_count": null,
      "metadata": {
        "id": "Za54hgeP0H3W"
      },
      "outputs": [],
      "source": [
        "\n",
        "# Prompting the user to enter the distance in miles\n",
        "miles =\n",
        "\n",
        "# Converting miles to kilometers (1 mile = 1.60934 kilometers)\n",
        "kilometers =\n",
        "\n",
        "# Displaying the result\n",
        "print(\"Distance in Kilometers:\", kilometers)"
      ]
    },
    {
      "cell_type": "code",
      "execution_count": null,
      "metadata": {
        "id": "uxacwcCM0H3Y"
      },
      "outputs": [],
      "source": [
        "# Your code\n",
        "\n",
        "input_miles = float(input(\"Please enter the distances in miles: \"))\n",
        "conversion_factor = 1.609344\n",
        "result = round((input_miles / conversion_factor), 2)\n",
        "print(f\"{input_miles} miles = {result} km.\")"
      ]
    },
    {
      "cell_type": "markdown",
      "metadata": {
        "id": "-bQYyqmB0H3Z"
      },
      "source": []
    }
  ],
  "metadata": {
    "language_info": {
      "name": "python"
    },
    "colab": {
      "provenance": []
    },
    "kernelspec": {
      "name": "python3",
      "display_name": "Python 3"
    }
  },
  "nbformat": 4,
  "nbformat_minor": 0
}