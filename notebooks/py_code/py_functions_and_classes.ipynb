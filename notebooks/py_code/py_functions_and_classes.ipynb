{
  "nbformat": 4,
  "nbformat_minor": 0,
  "metadata": {
    "colab": {
      "provenance": []
    },
    "kernelspec": {
      "name": "python3",
      "display_name": "Python 3"
    },
    "language_info": {
      "name": "python"
    }
  },
  "cells": [
    {
      "cell_type": "markdown",
      "source": [
        "**FUNCTIONS**"
      ],
      "metadata": {
        "id": "LSBCDcrBx9qC"
      }
    },
    {
      "cell_type": "code",
      "execution_count": null,
      "metadata": {
        "colab": {
          "base_uri": "https://localhost:8080/"
        },
        "id": "mu00SSUyfUrl",
        "outputId": "426aef90-ad68-4ed4-b988-872ae10e4021"
      },
      "outputs": [
        {
          "output_type": "stream",
          "name": "stdout",
          "text": [
            "I have cleaned the smartphone with special solution 2 times.\n",
            "I have cleaned the desk with water 3 times.\n"
          ]
        }
      ],
      "source": [
        "#functions\n",
        "def cleaner(item: str, fluid: str, times: int):\n",
        "  print(f\"I have cleaned the {item} with {fluid} {times} times.\")\n",
        "\n",
        "cleaner(\"smartphone\", \"special solution\", 2)\n",
        "cleaner(\"desk\", \"water\", 3)"
      ]
    },
    {
      "cell_type": "code",
      "source": [
        "def add_two_numbers(number_1, number_2):\n",
        "  return number_1 + number_2\n",
        "\n",
        "add_two_numbers(4, 5)"
      ],
      "metadata": {
        "colab": {
          "base_uri": "https://localhost:8080/"
        },
        "id": "FgX8_wFOrHCH",
        "outputId": "d2c15719-bfbd-4352-bd47-0a6ce8ff68e1"
      },
      "execution_count": null,
      "outputs": [
        {
          "output_type": "execute_result",
          "data": {
            "text/plain": [
              "9"
            ]
          },
          "metadata": {},
          "execution_count": 11
        }
      ]
    },
    {
      "cell_type": "markdown",
      "source": [
        "**CLASSES**"
      ],
      "metadata": {
        "id": "4JQXhmXHyFNN"
      }
    },
    {
      "cell_type": "code",
      "source": [
        "class Cat: #class definition\n",
        "  def __init__(self): #initializer method, self parameter refers to the instance of the class.\n",
        "    pass #pass statement indicates that no action is taken in this method"
      ],
      "metadata": {
        "id": "dIF_uy3hz6It"
      },
      "execution_count": null,
      "outputs": []
    },
    {
      "cell_type": "code",
      "source": [
        "class Cat:\n",
        "  def __init__(self, name, age, color):\n",
        "    self.name = name\n",
        "    self.age = age\n",
        "    self.color = color\n",
        "\n",
        "#Creating an instance of the Cat class\n",
        "my_cat = Cat(\"Whiskers\", 3, \"tabby\")\n",
        "\n",
        "print(my_cat.name)  #Whiskers\n",
        "print(my_cat.age)   #3\n",
        "print(my_cat.color) #tabby"
      ],
      "metadata": {
        "colab": {
          "base_uri": "https://localhost:8080/"
        },
        "id": "xLCNLXAfx9Tl",
        "outputId": "4b9cb3c7-f6ab-45a9-e798-3ac2bc7eefd1"
      },
      "execution_count": null,
      "outputs": [
        {
          "output_type": "stream",
          "name": "stdout",
          "text": [
            "Whiskers\n",
            "3\n",
            "tabby\n"
          ]
        }
      ]
    },
    {
      "cell_type": "code",
      "source": [
        "class Cat:\n",
        "  def __init__(self, name, age, color):\n",
        "    self.name = name\n",
        "    self.age = age\n",
        "    self.color = color\n",
        "  def voice(self, sound): #we define custom method\n",
        "    print(f\"I say {sound}!\")\n",
        "  def eat(self, food):\n",
        "    print(f\"I am eating {food}!\")\n",
        "  def introduce(self):\n",
        "    print(f'Hi, my name is {self.name}, I am {self.age} years old. Nice to meet you!')\n",
        "\n",
        "my_cat = Cat(\"Whiskers\", 3, \"tabby\")\n",
        "my_cat.voice(\"meow\") #we call our custom method\n",
        "my_cat.eat(\"chicken\") #we call our custom method, output: I am eating chicken!\n",
        "my_cat.introduce()\n",
        "\n",
        "my_cat.voice(\"purr\")  #overwriting of the meow\n",
        "my_cat.voice()"
      ],
      "metadata": {
        "colab": {
          "base_uri": "https://localhost:8080/"
        },
        "id": "e9XzMtui5Jm8",
        "outputId": "bc11143a-4765-4a00-cb99-28c6e4545016"
      },
      "execution_count": null,
      "outputs": [
        {
          "output_type": "stream",
          "name": "stdout",
          "text": [
            "I say meow!\n",
            "I am eating chicken!\n",
            "Hi, my name is Whiskers, I am 3 years old. Nice to meet you!\n"
          ]
        }
      ]
    },
    {
      "cell_type": "markdown",
      "source": [
        "TEAMWORK\n",
        "\n",
        "To make a data structure which will hold all instances/objects together\n",
        "\n",
        "Print out object data using loops\n",
        "Use methods for all objects using loops\n",
        "\n",
        "Allow programmer to override the default sound of a cat"
      ],
      "metadata": {
        "id": "Gc0YJ_hr_myW"
      }
    },
    {
      "cell_type": "code",
      "source": [
        "class Book:\n",
        "    def __init__(self, title, author, page_count, genre):\n",
        "        self.title = title\n",
        "        self.author = author\n",
        "        self.page_count = page_count\n",
        "        self.genre = genre\n",
        "\n",
        "    def display_info(self):\n",
        "        print(f\"Title: {self.title}\")\n",
        "        print(f\"Author: {self.author}\")\n",
        "        print(f\"Page Count: {self.page_count}\")\n",
        "        print(f\"Genre: {self.genre}\")\n",
        "        print()\n",
        "\n",
        "book1 = Book(\"Harry Potter and the Philosopher's Stone\", \"J.K.Rowling\", 300, \"Fantasy for children\")\n",
        "book2 = Book(\"Harry Potter and the Chamber of Secrets\", \"J.K.Rowling\", 250, \"Fantasy for children\")\n",
        "\n",
        "books = [book1, book2]\n",
        "\n",
        "for book in books:\n",
        "    book.display_info()\n"
      ],
      "metadata": {
        "colab": {
          "base_uri": "https://localhost:8080/"
        },
        "id": "E2iODSlqAtic",
        "outputId": "509157dc-b373-43b2-d598-6c89e9211efa"
      },
      "execution_count": null,
      "outputs": [
        {
          "output_type": "stream",
          "name": "stdout",
          "text": [
            "Title: Harry Potter and the Philosopher's Stone\n",
            "Author: J.K.Rowling\n",
            "Page Count: 300\n",
            "Genre: Fantasy for children\n",
            "\n",
            "Title: Harry Potter and the Chamber of Secrets\n",
            "Author: J.K.Rowling\n",
            "Page Count: 250\n",
            "Genre: Fantasy for children\n",
            "\n"
          ]
        }
      ]
    },
    {
      "cell_type": "code",
      "source": [
        "class Cat:\n",
        "  def __init__(self, name, age):\n",
        "    self.name = name\n",
        "    self.age = age\n",
        "    self.sound = \"meow\"\n",
        "  def voice(self, sound = \"meow\"): #we define custom method\n",
        "    print(f\"I say {sound}!\")\n",
        "\n",
        "cats = []\n",
        "cats.append(Cat('Coder', 3))\n",
        "cats.append(Cat('Minka', 12))\n",
        "cats.append(Cat('Miisu', 5))\n",
        "\n",
        "for cat in cats:\n",
        "    print(f\"{cat.name} has sound: {cat.sound}\")\n",
        "\n",
        "for cat in cats:\n",
        "  cat.voice(\"purr\") #overwriting"
      ],
      "metadata": {
        "colab": {
          "base_uri": "https://localhost:8080/"
        },
        "id": "-OuX2YthGDaP",
        "outputId": "556dc2c9-168b-4abd-fbd0-0e3a2f0c1b88"
      },
      "execution_count": null,
      "outputs": [
        {
          "output_type": "stream",
          "name": "stdout",
          "text": [
            "Coder has sound: meow\n",
            "Minka has sound: meow\n",
            "Miisu has sound: meow\n",
            "I say purr!\n",
            "I say purr!\n",
            "I say purr!\n"
          ]
        }
      ]
    },
    {
      "cell_type": "markdown",
      "source": [],
      "metadata": {
        "id": "w6XE0dmwHKy_"
      }
    }
  ]
}